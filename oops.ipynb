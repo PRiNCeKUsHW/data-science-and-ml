{
 "cells": [
  {
   "cell_type": "markdown",
   "id": "47773136",
   "metadata": {},
   "source": [
    "## object oriented in python\n"
   ]
  },
  {
   "cell_type": "code",
   "execution_count": 1,
   "id": "874f900f",
   "metadata": {},
   "outputs": [
    {
     "name": "stdout",
     "output_type": "stream",
     "text": [
      "<class 'int'>\n"
     ]
    }
   ],
   "source": [
    "a = 10\n",
    "print(type(a))"
   ]
  },
  {
   "cell_type": "code",
   "execution_count": 8,
   "id": "d9db0977",
   "metadata": {},
   "outputs": [],
   "source": [
    "class student :\n",
    "    pass\n",
    "\n",
    "s1 = student()\n",
    "s2 = student()\n",
    "s3 = student()\n",
    "    "
   ]
  },
  {
   "cell_type": "code",
   "execution_count": 9,
   "id": "fb82d635",
   "metadata": {},
   "outputs": [],
   "source": [
    "s1.name = 'mohan'\n",
    "s1.age = 20"
   ]
  },
  {
   "cell_type": "code",
   "execution_count": 15,
   "id": "3305a6bc",
   "metadata": {},
   "outputs": [],
   "source": [
    "s2.rollno = 101\n",
    "s3.age =20"
   ]
  },
  {
   "cell_type": "code",
   "execution_count": 16,
   "id": "b9a68bbe",
   "metadata": {},
   "outputs": [
    {
     "name": "stdout",
     "output_type": "stream",
     "text": [
      "{'name': 'mohan', 'age': 20}\n",
      "{'rollno': 101}\n",
      "{'age': 20}\n"
     ]
    }
   ],
   "source": [
    "print(s1.__dict__)\n",
    "print(s2.__dict__)\n",
    "print(s3.__dict__)"
   ]
  },
  {
   "cell_type": "code",
   "execution_count": 18,
   "id": "ec4c6379",
   "metadata": {},
   "outputs": [
    {
     "name": "stdout",
     "output_type": "stream",
     "text": [
      "True\n",
      "False\n"
     ]
    }
   ],
   "source": [
    "print(hasattr(s1,'name'))\n",
    "print(hasattr(s2,'name'))"
   ]
  },
  {
   "cell_type": "code",
   "execution_count": 22,
   "id": "d0d40aab",
   "metadata": {},
   "outputs": [
    {
     "name": "stdout",
     "output_type": "stream",
     "text": [
      "mohan\n",
      "test\n"
     ]
    }
   ],
   "source": [
    "print(getattr(s1,'name'))\n",
    "print(getattr(s2,'name','test'))"
   ]
  },
  {
   "cell_type": "code",
   "execution_count": 23,
   "id": "0477fefe",
   "metadata": {},
   "outputs": [
    {
     "name": "stdout",
     "output_type": "stream",
     "text": [
      "{'age': 20}\n"
     ]
    }
   ],
   "source": [
    "delattr(s1,'name')\n",
    "print(s1.__dict__)"
   ]
  },
  {
   "cell_type": "code",
   "execution_count": 25,
   "id": "14782b74",
   "metadata": {},
   "outputs": [
    {
     "name": "stdout",
     "output_type": "stream",
     "text": [
      "{'__module__': '__main__', '__dict__': <attribute '__dict__' of 'student' objects>, '__weakref__': <attribute '__weakref__' of 'student' objects>, '__doc__': None, 'totalstudent': 20}\n"
     ]
    }
   ],
   "source": [
    "student.totalstudent = 20\n",
    "print(student.__dict__)"
   ]
  },
  {
   "cell_type": "code",
   "execution_count": 8,
   "id": "c31480bd",
   "metadata": {},
   "outputs": [
    {
     "name": "stdout",
     "output_type": "stream",
     "text": [
      "mohit\n",
      "hello\n",
      "hi\n"
     ]
    }
   ],
   "source": [
    "class student :\n",
    "    ## class attribute\n",
    "    totalstudent = 20\n",
    "    classteacher = 'komal'\n",
    "    ## instance method\n",
    "    def printhel(self):\n",
    "        print('hello')\n",
    "        \n",
    "    def prints(self,str):\n",
    "        print(str)\n",
    "    def printna(self):\n",
    "        print(self.name)\n",
    "\n",
    "s1 = student()\n",
    "s2 = student()\n",
    "\n",
    "s1.name = 'mohit'\n",
    "\n",
    "s1.printna()\n",
    "\n",
    "\n",
    "s1.printhel()\n",
    "s2.prints(\"hi\")\n",
    "\n",
    "    "
   ]
  },
  {
   "cell_type": "code",
   "execution_count": 5,
   "id": "27ec2d97",
   "metadata": {},
   "outputs": [
    {
     "name": "stdout",
     "output_type": "stream",
     "text": [
      "hello\n"
     ]
    }
   ],
   "source": [
    "student.printhel(s1)"
   ]
  },
  {
   "cell_type": "code",
   "execution_count": 18,
   "id": "7b8d2037",
   "metadata": {},
   "outputs": [
    {
     "name": "stdout",
     "output_type": "stream",
     "text": [
      "constructur called\n",
      "constructur called\n"
     ]
    }
   ],
   "source": [
    "class student :\n",
    "    ## class attribute\n",
    "    totalstudent = 20\n",
    "    classteacher = 'komal'\n",
    "    \n",
    "    def __init__(self,name,age,rol):\n",
    "        print('constructur called')\n",
    "        self.name = name\n",
    "        self.age = age\n",
    "        self.roll = rol\n",
    "    ## instance method\n",
    "    def printhel(self):\n",
    "        print('hello')\n",
    "        \n",
    "    def prints(self,str):\n",
    "        print(str)\n",
    "    def printna(self):\n",
    "        print(self.name)\n",
    "    def addname(self,name):\n",
    "        self.name = name\n",
    "    def test(self):\n",
    "        student.totalstudent = 25\n",
    "        print(student.totalsutdent)\n",
    "        student.test_class = 90\n",
    "\n",
    "s1 = student('mohit',20,102)\n",
    "s2 = student('ram',33,23)"
   ]
  },
  {
   "cell_type": "code",
   "execution_count": 19,
   "id": "10512ad1",
   "metadata": {},
   "outputs": [
    {
     "name": "stdout",
     "output_type": "stream",
     "text": [
      "{'name': 'mohit', 'age': 20, 'roll': 102}\n",
      "{'name': 'ram', 'age': 33, 'roll': 23}\n"
     ]
    }
   ],
   "source": [
    "print(s1.__dict__)\n",
    "print(s2.__dict__)"
   ]
  },
  {
   "cell_type": "code",
   "execution_count": 11,
   "id": "a3d9d62b",
   "metadata": {},
   "outputs": [],
   "source": [
    "s1.addname(\"mohan\")"
   ]
  },
  {
   "cell_type": "markdown",
   "id": "38a8a59b",
   "metadata": {},
   "source": [
    "# access modifier\n",
    "private, public ,protected"
   ]
  },
  {
   "cell_type": "code",
   "execution_count": null,
   "id": "47d00084",
   "metadata": {},
   "outputs": [],
   "source": []
  }
 ],
 "metadata": {
  "kernelspec": {
   "display_name": "Python 3 (ipykernel)",
   "language": "python",
   "name": "python3"
  },
  "language_info": {
   "codemirror_mode": {
    "name": "ipython",
    "version": 3
   },
   "file_extension": ".py",
   "mimetype": "text/x-python",
   "name": "python",
   "nbconvert_exporter": "python",
   "pygments_lexer": "ipython3",
   "version": "3.11.0"
  }
 },
 "nbformat": 4,
 "nbformat_minor": 5
}
