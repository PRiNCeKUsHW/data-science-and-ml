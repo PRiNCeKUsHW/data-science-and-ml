{
 "cells": [
  {
   "cell_type": "code",
   "execution_count": 1,
   "id": "bd18ad9a",
   "metadata": {},
   "outputs": [],
   "source": [
    "import csv"
   ]
  },
  {
   "cell_type": "code",
   "execution_count": 3,
   "id": "353c17e7",
   "metadata": {},
   "outputs": [
    {
     "name": "stdout",
     "output_type": "stream",
     "text": [
      "1856\n",
      "66\n"
     ]
    }
   ],
   "source": [
    "with open('D:\\\\programming language\\\\Data science and Machine learning\\\\code\\\\file\\\\Amazon_jobs_dataset - amazon_jobs_dataset.csv', encoding='utf-8') as fileobj:\n",
    "    filedata = csv.reader(fileobj, skipinitialspace = True)\n",
    "    filelist = list(filedata)\n",
    "    \n",
    "b_count = 0\n",
    "s_count = 0\n",
    "\n",
    "for row in filelist:\n",
    "    if row[2]=='US, WA, Seattle ':\n",
    "        s_count+=1\n",
    "    elif row[2]=='IN, KA, Bangalore ':\n",
    "        b_count+=1\n",
    "print(s_count)\n",
    "print(b_count)"
   ]
  },
  {
   "cell_type": "code",
   "execution_count": 7,
   "id": "a3d38a3f",
   "metadata": {},
   "outputs": [
    {
     "name": "stdout",
     "output_type": "stream",
     "text": [
      "14\n"
     ]
    }
   ],
   "source": [
    "with open('D:\\\\programming language\\\\Data science and Machine learning\\\\code\\\\file\\\\Amazon_jobs_dataset - amazon_jobs_dataset.csv', encoding='utf-8') as fileobj:\n",
    "    filedata = csv.DictReader(fileobj, skipinitialspace = True)\n",
    "    job = 0\n",
    "    for row in filedata:\n",
    "        if 'Computer Vision' in row['Title']:\n",
    "            job+=1\n",
    "    print(job)"
   ]
  },
  {
   "cell_type": "code",
   "execution_count": 5,
   "id": "8be8c7c6",
   "metadata": {},
   "outputs": [
    {
     "data": {
      "text/plain": [
       "<csv.DictReader at 0x225a71eb3d0>"
      ]
     },
     "execution_count": 5,
     "metadata": {},
     "output_type": "execute_result"
    }
   ],
   "source": [
    "filedata"
   ]
  },
  {
   "cell_type": "code",
   "execution_count": 8,
   "id": "4bc3cd77",
   "metadata": {},
   "outputs": [
    {
     "name": "stdout",
     "output_type": "stream",
     "text": [
      "156\n"
     ]
    }
   ],
   "source": [
    "with open('D:\\\\programming language\\\\Data science and Machine learning\\\\code\\\\file\\\\Amazon_jobs_dataset - amazon_jobs_dataset.csv', encoding='utf-8') as fileobj:\n",
    "    filedata = csv.DictReader(fileobj, skipinitialspace = True)\n",
    "    job = 0\n",
    "    for row in filedata:\n",
    "        if row['location'].startswith(\"CA\"):\n",
    "            job+=1\n",
    "    print(job)"
   ]
  },
  {
   "cell_type": "code",
   "execution_count": null,
   "id": "85e183b5",
   "metadata": {},
   "outputs": [],
   "source": []
  }
 ],
 "metadata": {
  "kernelspec": {
   "display_name": "Python 3 (ipykernel)",
   "language": "python",
   "name": "python3"
  },
  "language_info": {
   "codemirror_mode": {
    "name": "ipython",
    "version": 3
   },
   "file_extension": ".py",
   "mimetype": "text/x-python",
   "name": "python",
   "nbconvert_exporter": "python",
   "pygments_lexer": "ipython3",
   "version": "3.11.0"
  }
 },
 "nbformat": 4,
 "nbformat_minor": 5
}
