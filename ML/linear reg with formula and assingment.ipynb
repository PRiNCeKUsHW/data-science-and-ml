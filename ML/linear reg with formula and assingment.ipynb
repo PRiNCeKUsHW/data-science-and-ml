{
 "cells": [
  {
   "cell_type": "code",
   "execution_count": 1,
   "id": "066f9025",
   "metadata": {},
   "outputs": [],
   "source": [
    "#  single variable \n",
    "# four function  \n",
    "# 1. fit\n",
    "# 2. pred\n",
    "# 3. find score\n",
    "# 4. cost fun"
   ]
  },
  {
   "cell_type": "code",
   "execution_count": 2,
   "id": "353cae2b",
   "metadata": {},
   "outputs": [],
   "source": [
    "# initially test size is 25%  70% train and 25% test\n",
    "\n",
    "import numpy as np"
   ]
  },
  {
   "cell_type": "code",
   "execution_count": 3,
   "id": "a9a3e600",
   "metadata": {},
   "outputs": [],
   "source": [
    "data = np.loadtxt(\"data.csv\",delimiter=\",\")"
   ]
  },
  {
   "cell_type": "code",
   "execution_count": 4,
   "id": "3a052f53",
   "metadata": {},
   "outputs": [],
   "source": [
    "x = data[:,0]\n",
    "y = data[:,1]"
   ]
  },
  {
   "cell_type": "code",
   "execution_count": 5,
   "id": "e8e679d3",
   "metadata": {},
   "outputs": [
    {
     "data": {
      "text/plain": [
       "(100,)"
      ]
     },
     "execution_count": 5,
     "metadata": {},
     "output_type": "execute_result"
    }
   ],
   "source": [
    "x.shape"
   ]
  },
  {
   "cell_type": "code",
   "execution_count": 7,
   "id": "29f66451",
   "metadata": {},
   "outputs": [],
   "source": [
    "from sklearn import model_selection\n",
    "x_train,x_test,y_train,y_test = model_selection.train_test_split(x,y, test_size=0.3)"
   ]
  },
  {
   "cell_type": "code",
   "execution_count": 8,
   "id": "60e2c268",
   "metadata": {},
   "outputs": [
    {
     "data": {
      "text/plain": [
       "(70,)"
      ]
     },
     "execution_count": 8,
     "metadata": {},
     "output_type": "execute_result"
    }
   ],
   "source": [
    "x_train.shape"
   ]
  },
  {
   "cell_type": "code",
   "execution_count": 9,
   "id": "d268275d",
   "metadata": {},
   "outputs": [],
   "source": [
    "def fit(x_train,y_train):\n",
    "    num = ((x_train*y_train).mean()-x_train.mean()*y_train.mean())\n",
    "    den = (x_train**2).mean()-x_train.mean()**2\n",
    "    m = num/den\n",
    "    c = y_train.mean()-m*x_train.mean()\n",
    "    return m,c"
   ]
  },
  {
   "cell_type": "code",
   "execution_count": 10,
   "id": "931823a9",
   "metadata": {},
   "outputs": [],
   "source": [
    "def predict(x,m,c):\n",
    "    return m*x + c"
   ]
  },
  {
   "cell_type": "code",
   "execution_count": 15,
   "id": "7a7d2a4c",
   "metadata": {},
   "outputs": [],
   "source": [
    "def score(y_truth,y_pred):\n",
    "    u = ((y_truth-y_pred)**2).sum()\n",
    "    v = ((y_truth-y_truth.mean())**2).sum()\n",
    "    return 1-u/v\n",
    "\n",
    "def cost(x,y,m,c):\n",
    "    return ((y - m*x-c)**2).mean()"
   ]
  },
  {
   "cell_type": "code",
   "execution_count": 16,
   "id": "8a3b74a1",
   "metadata": {},
   "outputs": [
    {
     "name": "stdout",
     "output_type": "stream",
     "text": [
      "test score 0.5587267426317966\n",
      "train score 0.6047054983838227\n",
      "M,C 1.3225369702526262 8.76812027732953\n",
      "cost on training data 113.22379236276447\n"
     ]
    }
   ],
   "source": [
    "m,c = fit(x_train,y_train)\n",
    "# test data\n",
    "y_test_pred = predict(x_test,m,c)\n",
    "\n",
    "print(\"test score\",score(y_test,y_test_pred))\n",
    "\n",
    "#train data\n",
    "y_train_pred = predict(x_train,m,c)\n",
    "print(\"train score\",score(y_train,y_train_pred))\n",
    "print(\"M,C\",m,c)\n",
    "print(\"cost on training data\",cost(x_train,y_train,m,c))"
   ]
  },
  {
   "cell_type": "code",
   "execution_count": 1,
   "id": "945c89c8",
   "metadata": {},
   "outputs": [],
   "source": [
    "import numpy as np"
   ]
  },
  {
   "cell_type": "code",
   "execution_count": 4,
   "id": "66f5be80",
   "metadata": {},
   "outputs": [],
   "source": [
    "data = np.genfromtxt(\"train.csv\",delimiter=\",\")"
   ]
  },
  {
   "cell_type": "code",
   "execution_count": 5,
   "id": "d332ff27",
   "metadata": {},
   "outputs": [],
   "source": [
    "x_t = data[:,:10]\n",
    "y_t = data[:,10]"
   ]
  },
  {
   "cell_type": "code",
   "execution_count": 6,
   "id": "e4ede5ff",
   "metadata": {},
   "outputs": [
    {
     "data": {
      "text/plain": [
       "array([346., 104.,  49., 180., 110.,  72.,  68., 216.,  47., 296.,  65.,\n",
       "        96.,  67.,  52., 100., 202., 128.,  63., 281., 152., 124., 245.,\n",
       "       101., 113.,  48., 197., 186., 132., 245.,  91.,  43., 101., 111.,\n",
       "       199., 220., 281., 217.,  93., 174., 150., 206.,  61.,  55., 118.,\n",
       "        53., 275., 215., 142.,  90.,  65., 200.,  96., 249., 200., 155.,\n",
       "       170., 141., 179., 225.,  61., 103., 131., 158., 275., 246.,  97.,\n",
       "       302.,  91., 178.,  51., 170., 104., 168., 257., 182.,  71., 220.,\n",
       "       241., 192., 220., 220., 141.,  89., 144., 150., 135., 200.,  39.,\n",
       "        25., 185.,  52.,  92.,  63., 152.,  69.,  68., 274., 279., 236.,\n",
       "       168., 143., 135., 123., 277.,  60.,  72.,  72., 109.,  86.,  92.,\n",
       "        99.,  48., 170., 283., 129.,  75., 270., 272.,  31., 262., 232.,\n",
       "       191., 140., 233., 196., 263.,  88.,  84., 137., 128.,  78., 140.,\n",
       "       252.,  55., 104., 235.,  37., 122.,  72., 144., 138., 253.,  90.,\n",
       "        53., 198., 145.,  73., 252.,  77., 295., 243.,  83., 212., 185.,\n",
       "       126.,  68., 210., 107., 200.,  69.,  98., 242., 163., 172.,  40.,\n",
       "       109.,  39., 202., 131., 261.,  71., 200.,  60., 198., 198., 107.,\n",
       "       252., 144., 108.,  64.,  83.,  67., 146.,  84.,  96., 270.,  80.,\n",
       "       182., 214., 127., 143., 222.,  50.,  85., 115., 243., 281., 258.,\n",
       "       114.,  57.,  94., 136.,  88., 178.,  94.,  81.,  42., 102., 139.,\n",
       "        74.,  69., 308., 200., 242., 158., 174.,  66.,  78., 127., 132.,\n",
       "       201., 178., 202.,  66., 248., 237., 120., 111.,  99.,  96., 180.,\n",
       "       341., 219., 131., 141.,  89.,  59., 147.,  44., 336.,  47., 272.,\n",
       "       317., 161.,  64.,  78., 111., 208., 190., 244., 246.,  48., 275.,\n",
       "       182., 248.,  59., 178., 113., 109., 142.,  59., 110., 128.,  95.,\n",
       "        65., 115., 276.,  85., 183.,  58.,  71., 162., 225., 306., 137.,\n",
       "        85.,  77.,  72., 166., 310.,  79., 195., 321., 160., 283.,  75.,\n",
       "       167., 191.,  71., 297., 185., 134., 233., 151.,  83., 258.,  54.,\n",
       "        55., 189.,  70., 310., 181., 172., 235., 275., 259.,  88.,  74.,\n",
       "        91., 104., 173., 179., 148., 168., 124., 164., 214., 263.,  52.,\n",
       "        52., 160.,  88.,  94., 109.,  53., 265., 233.,  63., 288., 131.,\n",
       "        42.])"
      ]
     },
     "execution_count": 6,
     "metadata": {},
     "output_type": "execute_result"
    }
   ],
   "source": [
    "y_t"
   ]
  },
  {
   "cell_type": "code",
   "execution_count": 7,
   "id": "652db2e2",
   "metadata": {},
   "outputs": [],
   "source": [
    "from sklearn.linear_model import LinearRegression\n",
    "algo1 = LinearRegression()"
   ]
  },
  {
   "cell_type": "code",
   "execution_count": 8,
   "id": "534efa52",
   "metadata": {},
   "outputs": [
    {
     "data": {
      "text/html": [
       "<style>#sk-container-id-1 {color: black;background-color: white;}#sk-container-id-1 pre{padding: 0;}#sk-container-id-1 div.sk-toggleable {background-color: white;}#sk-container-id-1 label.sk-toggleable__label {cursor: pointer;display: block;width: 100%;margin-bottom: 0;padding: 0.3em;box-sizing: border-box;text-align: center;}#sk-container-id-1 label.sk-toggleable__label-arrow:before {content: \"▸\";float: left;margin-right: 0.25em;color: #696969;}#sk-container-id-1 label.sk-toggleable__label-arrow:hover:before {color: black;}#sk-container-id-1 div.sk-estimator:hover label.sk-toggleable__label-arrow:before {color: black;}#sk-container-id-1 div.sk-toggleable__content {max-height: 0;max-width: 0;overflow: hidden;text-align: left;background-color: #f0f8ff;}#sk-container-id-1 div.sk-toggleable__content pre {margin: 0.2em;color: black;border-radius: 0.25em;background-color: #f0f8ff;}#sk-container-id-1 input.sk-toggleable__control:checked~div.sk-toggleable__content {max-height: 200px;max-width: 100%;overflow: auto;}#sk-container-id-1 input.sk-toggleable__control:checked~label.sk-toggleable__label-arrow:before {content: \"▾\";}#sk-container-id-1 div.sk-estimator input.sk-toggleable__control:checked~label.sk-toggleable__label {background-color: #d4ebff;}#sk-container-id-1 div.sk-label input.sk-toggleable__control:checked~label.sk-toggleable__label {background-color: #d4ebff;}#sk-container-id-1 input.sk-hidden--visually {border: 0;clip: rect(1px 1px 1px 1px);clip: rect(1px, 1px, 1px, 1px);height: 1px;margin: -1px;overflow: hidden;padding: 0;position: absolute;width: 1px;}#sk-container-id-1 div.sk-estimator {font-family: monospace;background-color: #f0f8ff;border: 1px dotted black;border-radius: 0.25em;box-sizing: border-box;margin-bottom: 0.5em;}#sk-container-id-1 div.sk-estimator:hover {background-color: #d4ebff;}#sk-container-id-1 div.sk-parallel-item::after {content: \"\";width: 100%;border-bottom: 1px solid gray;flex-grow: 1;}#sk-container-id-1 div.sk-label:hover label.sk-toggleable__label {background-color: #d4ebff;}#sk-container-id-1 div.sk-serial::before {content: \"\";position: absolute;border-left: 1px solid gray;box-sizing: border-box;top: 0;bottom: 0;left: 50%;z-index: 0;}#sk-container-id-1 div.sk-serial {display: flex;flex-direction: column;align-items: center;background-color: white;padding-right: 0.2em;padding-left: 0.2em;position: relative;}#sk-container-id-1 div.sk-item {position: relative;z-index: 1;}#sk-container-id-1 div.sk-parallel {display: flex;align-items: stretch;justify-content: center;background-color: white;position: relative;}#sk-container-id-1 div.sk-item::before, #sk-container-id-1 div.sk-parallel-item::before {content: \"\";position: absolute;border-left: 1px solid gray;box-sizing: border-box;top: 0;bottom: 0;left: 50%;z-index: -1;}#sk-container-id-1 div.sk-parallel-item {display: flex;flex-direction: column;z-index: 1;position: relative;background-color: white;}#sk-container-id-1 div.sk-parallel-item:first-child::after {align-self: flex-end;width: 50%;}#sk-container-id-1 div.sk-parallel-item:last-child::after {align-self: flex-start;width: 50%;}#sk-container-id-1 div.sk-parallel-item:only-child::after {width: 0;}#sk-container-id-1 div.sk-dashed-wrapped {border: 1px dashed gray;margin: 0 0.4em 0.5em 0.4em;box-sizing: border-box;padding-bottom: 0.4em;background-color: white;}#sk-container-id-1 div.sk-label label {font-family: monospace;font-weight: bold;display: inline-block;line-height: 1.2em;}#sk-container-id-1 div.sk-label-container {text-align: center;}#sk-container-id-1 div.sk-container {/* jupyter's `normalize.less` sets `[hidden] { display: none; }` but bootstrap.min.css set `[hidden] { display: none !important; }` so we also need the `!important` here to be able to override the default hidden behavior on the sphinx rendered scikit-learn.org. See: https://github.com/scikit-learn/scikit-learn/issues/21755 */display: inline-block !important;position: relative;}#sk-container-id-1 div.sk-text-repr-fallback {display: none;}</style><div id=\"sk-container-id-1\" class=\"sk-top-container\"><div class=\"sk-text-repr-fallback\"><pre>LinearRegression()</pre><b>In a Jupyter environment, please rerun this cell to show the HTML representation or trust the notebook. <br />On GitHub, the HTML representation is unable to render, please try loading this page with nbviewer.org.</b></div><div class=\"sk-container\" hidden><div class=\"sk-item\"><div class=\"sk-estimator sk-toggleable\"><input class=\"sk-toggleable__control sk-hidden--visually\" id=\"sk-estimator-id-1\" type=\"checkbox\" checked><label for=\"sk-estimator-id-1\" class=\"sk-toggleable__label sk-toggleable__label-arrow\">LinearRegression</label><div class=\"sk-toggleable__content\"><pre>LinearRegression()</pre></div></div></div></div></div>"
      ],
      "text/plain": [
       "LinearRegression()"
      ]
     },
     "execution_count": 8,
     "metadata": {},
     "output_type": "execute_result"
    }
   ],
   "source": [
    "algo1.fit(x_t,y_t)"
   ]
  },
  {
   "cell_type": "code",
   "execution_count": 9,
   "id": "1cab646c",
   "metadata": {},
   "outputs": [],
   "source": [
    "data1 = np.genfromtxt(\"test.csv\",delimiter=\",\")"
   ]
  },
  {
   "cell_type": "code",
   "execution_count": 10,
   "id": "f6ed9728",
   "metadata": {},
   "outputs": [],
   "source": [
    "x = data1[:,:10]"
   ]
  },
  {
   "cell_type": "code",
   "execution_count": 11,
   "id": "9cd5d23a",
   "metadata": {},
   "outputs": [],
   "source": [
    "ans = algo1.predict(x)"
   ]
  },
  {
   "cell_type": "code",
   "execution_count": 12,
   "id": "9c59087a",
   "metadata": {},
   "outputs": [
    {
     "data": {
      "text/plain": [
       "array([105.52974799, 105.8039198 , 178.60857225,  79.3828781 ,\n",
       "        52.95868706,  98.87263854, 150.71755448,  34.86515216,\n",
       "       113.13535727, 161.50184038, 135.8615611 ,  94.71592222,\n",
       "       138.48094422, 141.37441723, 158.76862662, 171.65288616,\n",
       "       106.44835654, 103.92659639,  95.38693889, 167.40118092,\n",
       "       166.53426278, 101.53464712, 252.45035972, 147.02258547,\n",
       "       214.78906632, 161.27557106, 210.61315228,  71.78091585,\n",
       "       189.65032431, 206.6134259 , 219.98643455, 168.80192534,\n",
       "       116.84846127, 178.74399639,  77.03247418,  59.54633214,\n",
       "       111.5673781 , 156.95186739, 154.59591259, 198.94457493,\n",
       "       115.53884017, 153.46699024,  84.96179518, 113.70337192,\n",
       "       142.14155617, 147.31040378,  82.78072358,  77.89237327,\n",
       "       128.99006192, 261.58712282, 213.31187775, 243.98791257,\n",
       "       167.68132094, 183.69712124, 166.85926884, 202.11440188,\n",
       "       220.39235543, 172.40288024, 176.60897931, 109.04656567,\n",
       "       276.37789836,  90.99941821, 289.37221147, 119.56253351,\n",
       "        75.45687948, 180.78598759, 146.62093081, 156.42382465,\n",
       "        41.079036  , 247.90645166, 207.99121432,  90.09641075,\n",
       "       222.24169638, 189.86378006, 182.2695376 , 164.39881376,\n",
       "       190.27066587, 105.4486795 , 199.86136394, 245.796388  ,\n",
       "       123.20281334, 119.41031908, 145.86620411, 206.19247291,\n",
       "       150.86282453, 142.23221646, 154.56874616, 115.29233396,\n",
       "       134.07810123, 118.42225404, 203.5767555 , 170.66483797,\n",
       "       127.409797  ,  57.13507634, 231.92226503, 185.20713654,\n",
       "       187.37494558,  83.55920849, 185.42585685, 217.34035639,\n",
       "       108.86715354,  80.98714568, 127.05524123, 242.00738792,\n",
       "       155.9723414 , 125.67575276, 246.41235643, 234.963933  ,\n",
       "       191.51298252, 168.33254477, 163.02965178])"
      ]
     },
     "execution_count": 12,
     "metadata": {},
     "output_type": "execute_result"
    }
   ],
   "source": [
    "ans"
   ]
  },
  {
   "cell_type": "code",
   "execution_count": 13,
   "id": "d1772b6a",
   "metadata": {},
   "outputs": [],
   "source": [
    "for i in range(len(ans)):\n",
    "    ans[i]=format(ans[i],'.5f')\n",
    "np.savetxt('ans2.csv',ans,fmt='%.5f')"
   ]
  },
  {
   "cell_type": "code",
   "execution_count": null,
   "id": "95d5a14c",
   "metadata": {},
   "outputs": [],
   "source": []
  }
 ],
 "metadata": {
  "kernelspec": {
   "display_name": "Python 3 (ipykernel)",
   "language": "python",
   "name": "python3"
  },
  "language_info": {
   "codemirror_mode": {
    "name": "ipython",
    "version": 3
   },
   "file_extension": ".py",
   "mimetype": "text/x-python",
   "name": "python",
   "nbconvert_exporter": "python",
   "pygments_lexer": "ipython3",
   "version": "3.11.0"
  }
 },
 "nbformat": 4,
 "nbformat_minor": 5
}
