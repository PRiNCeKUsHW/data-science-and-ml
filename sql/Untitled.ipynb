{
 "cells": [
  {
   "cell_type": "code",
   "execution_count": 2,
   "id": "e292b166",
   "metadata": {},
   "outputs": [],
   "source": [
    "import sqlite3"
   ]
  },
  {
   "cell_type": "code",
   "execution_count": 4,
   "id": "62d9b37d",
   "metadata": {},
   "outputs": [],
   "source": [
    "db = sqlite3.connect('IMDB.sqlite')"
   ]
  },
  {
   "cell_type": "code",
   "execution_count": 5,
   "id": "d2aeb082",
   "metadata": {},
   "outputs": [
    {
     "data": {
      "text/plain": [
       "<sqlite3.Connection at 0x1aadbd3fb50>"
      ]
     },
     "execution_count": 5,
     "metadata": {},
     "output_type": "execute_result"
    }
   ],
   "source": [
    "db"
   ]
  },
  {
   "cell_type": "code",
   "execution_count": 6,
   "id": "fa24cf99",
   "metadata": {},
   "outputs": [],
   "source": [
    "db = sqlite3.connect('school.sqlite')"
   ]
  },
  {
   "cell_type": "code",
   "execution_count": 7,
   "id": "a31ca055",
   "metadata": {},
   "outputs": [
    {
     "data": {
      "text/plain": [
       "<sqlite3.Connection at 0x1aadc2ac220>"
      ]
     },
     "execution_count": 7,
     "metadata": {},
     "output_type": "execute_result"
    }
   ],
   "source": [
    "db"
   ]
  },
  {
   "cell_type": "code",
   "execution_count": 8,
   "id": "3639107f",
   "metadata": {},
   "outputs": [
    {
     "data": {
      "text/plain": [
       "<sqlite3.Cursor at 0x1aadbd77440>"
      ]
     },
     "execution_count": 8,
     "metadata": {},
     "output_type": "execute_result"
    }
   ],
   "source": [
    "cur = db.cursor()\n",
    "cur"
   ]
  },
  {
   "cell_type": "code",
   "execution_count": 9,
   "id": "2cc871da",
   "metadata": {},
   "outputs": [
    {
     "data": {
      "text/plain": [
       "<sqlite3.Cursor at 0x1aadbd77440>"
      ]
     },
     "execution_count": 9,
     "metadata": {},
     "output_type": "execute_result"
    }
   ],
   "source": [
    "sql_query = 'create table student (rollnumber int primary key, name text, age int)'\n",
    "cur.execute(sql_query)"
   ]
  },
  {
   "cell_type": "code",
   "execution_count": 11,
   "id": "392c1b9c",
   "metadata": {},
   "outputs": [
    {
     "data": {
      "text/plain": [
       "<sqlite3.Cursor at 0x1aadbd77440>"
      ]
     },
     "execution_count": 11,
     "metadata": {},
     "output_type": "execute_result"
    }
   ],
   "source": [
    "cur.execute('insert into student values (101,\"aman\",20)')"
   ]
  },
  {
   "cell_type": "code",
   "execution_count": 12,
   "id": "1e18f3fb",
   "metadata": {},
   "outputs": [],
   "source": [
    "db.commit()"
   ]
  },
  {
   "cell_type": "code",
   "execution_count": 13,
   "id": "0782a675",
   "metadata": {},
   "outputs": [
    {
     "data": {
      "text/plain": [
       "<sqlite3.Cursor at 0x1aadbd77440>"
      ]
     },
     "execution_count": 13,
     "metadata": {},
     "output_type": "execute_result"
    }
   ],
   "source": [
    "cur.execute('insert into student values (102,\"anuj\",22)')"
   ]
  },
  {
   "cell_type": "code",
   "execution_count": 14,
   "id": "f603152b",
   "metadata": {},
   "outputs": [],
   "source": [
    "db.commit()"
   ]
  },
  {
   "cell_type": "code",
   "execution_count": 15,
   "id": "c0de5dbd",
   "metadata": {},
   "outputs": [],
   "source": [
    "db.close()"
   ]
  },
  {
   "cell_type": "code",
   "execution_count": 16,
   "id": "9793f5ed",
   "metadata": {},
   "outputs": [],
   "source": [
    "import sqlite3"
   ]
  },
  {
   "cell_type": "code",
   "execution_count": 19,
   "id": "fd274cc4",
   "metadata": {},
   "outputs": [],
   "source": [
    "db = sqlite3.connect('employee.sqlite')"
   ]
  },
  {
   "cell_type": "code",
   "execution_count": 20,
   "id": "df6e941f",
   "metadata": {},
   "outputs": [
    {
     "data": {
      "text/plain": [
       "<sqlite3.Connection at 0x1aadc2ac4f0>"
      ]
     },
     "execution_count": 20,
     "metadata": {},
     "output_type": "execute_result"
    }
   ],
   "source": [
    "db"
   ]
  },
  {
   "cell_type": "code",
   "execution_count": 21,
   "id": "7809a5ac",
   "metadata": {},
   "outputs": [],
   "source": [
    "cur = db.cursor()"
   ]
  },
  {
   "cell_type": "code",
   "execution_count": 22,
   "id": "c46bcbae",
   "metadata": {},
   "outputs": [
    {
     "data": {
      "text/plain": [
       "<sqlite3.Cursor at 0x1aadc29b0c0>"
      ]
     },
     "execution_count": 22,
     "metadata": {},
     "output_type": "execute_result"
    }
   ],
   "source": [
    "cur.execute('create table employee_detail (employee_id int primary key, name text,age int, department text, salary int )')"
   ]
  },
  {
   "cell_type": "code",
   "execution_count": 23,
   "id": "fc4bc479",
   "metadata": {},
   "outputs": [
    {
     "data": {
      "text/plain": [
       "<sqlite3.Cursor at 0x1aadc29b0c0>"
      ]
     },
     "execution_count": 23,
     "metadata": {},
     "output_type": "execute_result"
    }
   ],
   "source": [
    "cur.execute('insert into employee_detail (employee_id,name,age,department,salary) values (100,\"Rishav\",25,\"Marketing\",50000),(101,\"Abhishek\",26,\"operation\",60000),(102,\"aman\",24,\"human resource\",75000)')"
   ]
  },
  {
   "cell_type": "code",
   "execution_count": 24,
   "id": "1a5a5835",
   "metadata": {},
   "outputs": [],
   "source": [
    "db.commit()"
   ]
  },
  {
   "cell_type": "code",
   "execution_count": 25,
   "id": "3b03969c",
   "metadata": {},
   "outputs": [],
   "source": [
    "db.close()"
   ]
  },
  {
   "cell_type": "code",
   "execution_count": 26,
   "id": "b2349a17",
   "metadata": {},
   "outputs": [],
   "source": [
    "db = sqlite3.connect('school.sqlite')"
   ]
  },
  {
   "cell_type": "code",
   "execution_count": 27,
   "id": "2269e2f9",
   "metadata": {},
   "outputs": [],
   "source": [
    "cur = db.cursor()"
   ]
  },
  {
   "cell_type": "code",
   "execution_count": 28,
   "id": "cec00bbc",
   "metadata": {},
   "outputs": [
    {
     "data": {
      "text/plain": [
       "<sqlite3.Cursor at 0x1aadc4d92c0>"
      ]
     },
     "execution_count": 28,
     "metadata": {},
     "output_type": "execute_result"
    }
   ],
   "source": [
    "cur.execute('insert into student values (103,\"mohit\",24)')"
   ]
  },
  {
   "cell_type": "code",
   "execution_count": 29,
   "id": "0ec79b92",
   "metadata": {},
   "outputs": [],
   "source": [
    "db.commit()"
   ]
  },
  {
   "cell_type": "code",
   "execution_count": 30,
   "id": "53630bfc",
   "metadata": {},
   "outputs": [
    {
     "data": {
      "text/plain": [
       "<sqlite3.Cursor at 0x1aadc4d92c0>"
      ]
     },
     "execution_count": 30,
     "metadata": {},
     "output_type": "execute_result"
    }
   ],
   "source": [
    "rollnumber=104\n",
    "name='nikhil'\n",
    "age=34\n",
    "# with help of variable we can add value\n",
    "cur.execute('insert into student values ( ?,?,?)',(rollnumber,name,age))"
   ]
  },
  {
   "cell_type": "code",
   "execution_count": 31,
   "id": "48bca0e0",
   "metadata": {},
   "outputs": [],
   "source": [
    "db.commit()"
   ]
  },
  {
   "cell_type": "code",
   "execution_count": 32,
   "id": "460cf984",
   "metadata": {},
   "outputs": [
    {
     "data": {
      "text/plain": [
       "<sqlite3.Cursor at 0x1aadc4d92c0>"
      ]
     },
     "execution_count": 32,
     "metadata": {},
     "output_type": "execute_result"
    }
   ],
   "source": [
    "values = [(105,\"nidhi\",20),(106,\"manisha\",21),(107,\"ankush\",22)]\n",
    "cur.executemany('insert into student values (?,?,?)',values)"
   ]
  },
  {
   "cell_type": "code",
   "execution_count": 33,
   "id": "5127095b",
   "metadata": {},
   "outputs": [],
   "source": [
    "db.commit()"
   ]
  },
  {
   "cell_type": "code",
   "execution_count": 34,
   "id": "9756baea",
   "metadata": {},
   "outputs": [
    {
     "data": {
      "text/plain": [
       "<sqlite3.Cursor at 0x1aadc4d92c0>"
      ]
     },
     "execution_count": 34,
     "metadata": {},
     "output_type": "execute_result"
    }
   ],
   "source": [
    "cur.execute('update student set age = 30')"
   ]
  },
  {
   "cell_type": "code",
   "execution_count": 36,
   "id": "7e44f3b1",
   "metadata": {},
   "outputs": [],
   "source": [
    "db.commit()"
   ]
  },
  {
   "cell_type": "code",
   "execution_count": 37,
   "id": "3e0061a5",
   "metadata": {},
   "outputs": [
    {
     "data": {
      "text/plain": [
       "<sqlite3.Cursor at 0x1aadc4d92c0>"
      ]
     },
     "execution_count": 37,
     "metadata": {},
     "output_type": "execute_result"
    }
   ],
   "source": [
    "cur.execute('update student set age = 20 where rollnumber = 102')"
   ]
  },
  {
   "cell_type": "code",
   "execution_count": 38,
   "id": "21fb9cf6",
   "metadata": {},
   "outputs": [],
   "source": [
    "db.commit()"
   ]
  },
  {
   "cell_type": "code",
   "execution_count": 39,
   "id": "60b02c09",
   "metadata": {},
   "outputs": [
    {
     "data": {
      "text/plain": [
       "<sqlite3.Cursor at 0x1aadc4d92c0>"
      ]
     },
     "execution_count": 39,
     "metadata": {},
     "output_type": "execute_result"
    }
   ],
   "source": [
    "new_age = 50\n",
    "cur.execute('update student set age= ? where rollnumber = 103',(new_age,))"
   ]
  },
  {
   "cell_type": "code",
   "execution_count": 40,
   "id": "72f04676",
   "metadata": {},
   "outputs": [],
   "source": [
    "db.commit()"
   ]
  },
  {
   "cell_type": "code",
   "execution_count": 43,
   "id": "acb7bff4",
   "metadata": {},
   "outputs": [
    {
     "data": {
      "text/plain": [
       "<sqlite3.Cursor at 0x1aadc4d92c0>"
      ]
     },
     "execution_count": 43,
     "metadata": {},
     "output_type": "execute_result"
    }
   ],
   "source": [
    "cur.execute('delete from student where rollnumber = 104')"
   ]
  },
  {
   "cell_type": "code",
   "execution_count": 44,
   "id": "8efb4856",
   "metadata": {},
   "outputs": [],
   "source": [
    "db.commit()"
   ]
  },
  {
   "cell_type": "code",
   "execution_count": 45,
   "id": "fc0262a2",
   "metadata": {},
   "outputs": [
    {
     "name": "stdout",
     "output_type": "stream",
     "text": [
      "Done\n"
     ]
    }
   ],
   "source": [
    "import sqlite3\n",
    "\n",
    "db = sqlite3.connect('Employee_Detail.sqlite')\n",
    "db\n",
    "cur = db.cursor()\n",
    "cur\n",
    "sql_query = 'create table Employee_Detail(Employee_ID int primary key, Name text, Age int, Department text, Salary int )'\n",
    "cur.execute(sql_query)\n",
    "values = [(101, 'Aadarsh', 25, 'Marketing', 50000),(102, 'Aarti', 27, 'Operations', 60000),(103, 'Siddharth', 25, 'Finance', 85000)]\n",
    "cur.executemany('Insert into Employee_Detail values (?,?,?,?,?)', values)\n",
    "db.commit()\n",
    "values = [(104, 'Aman', 24, 'Human Resource', 75000),(105, 'Amit', 30, 'Marketing', 50000),(106, 'Shivansh', 26, 'IT', 90000)]\n",
    "cur.executemany('Insert into Employee_Detail values (?,?,?,?,?)', values)\n",
    "db.commit()\n",
    "values = [(107, 'Vaibhav', 23, 'Finance', 85000),(108, 'Himanshu', 26, 'IT', 90000),(109, 'Raman', 25, 'Operations', 60000)]\n",
    "cur.executemany('Insert into Employee_Detail values (?,?,?,?,?)', values)\n",
    "db.commit()\n",
    "values = [(110, 'Kunal', 26, 'Marketing', 50000),(111, 'Adhira', 29, 'Human Resource', 75000),(112, 'Tanya', 24, 'Marketing', 50000)]\n",
    "cur.executemany('Insert into Employee_Detail values (?,?,?,?,?)', values)\n",
    "db.commit()\n",
    "db.close()\n",
    "print('Done')"
   ]
  },
  {
   "cell_type": "code",
   "execution_count": 46,
   "id": "72d018b3",
   "metadata": {},
   "outputs": [],
   "source": [
    "db.close()"
   ]
  },
  {
   "cell_type": "code",
   "execution_count": 47,
   "id": "2a5e16fa",
   "metadata": {},
   "outputs": [],
   "source": [
    "db = sqlite3.connect('school.sqlite')\n",
    "cur = db.cursor()"
   ]
  },
  {
   "cell_type": "code",
   "execution_count": 48,
   "id": "9050f1c5",
   "metadata": {},
   "outputs": [
    {
     "data": {
      "text/plain": [
       "<sqlite3.Cursor at 0x1aadc4da240>"
      ]
     },
     "execution_count": 48,
     "metadata": {},
     "output_type": "execute_result"
    }
   ],
   "source": [
    "rollnumber=104\n",
    "name='nikhil'\n",
    "age=34\n",
    "# with help of variable we can add value\n",
    "cur.execute('insert into student values ( ?,?,?)',(rollnumber,name,age))"
   ]
  },
  {
   "cell_type": "code",
   "execution_count": 49,
   "id": "b71913dd",
   "metadata": {},
   "outputs": [],
   "source": [
    "db.commit()"
   ]
  },
  {
   "cell_type": "code",
   "execution_count": 50,
   "id": "62139737",
   "metadata": {},
   "outputs": [
    {
     "data": {
      "text/plain": [
       "<sqlite3.Cursor at 0x1aadc4da240>"
      ]
     },
     "execution_count": 50,
     "metadata": {},
     "output_type": "execute_result"
    }
   ],
   "source": [
    "cur.execute('select * from student')"
   ]
  },
  {
   "cell_type": "code",
   "execution_count": 51,
   "id": "64403309",
   "metadata": {},
   "outputs": [
    {
     "name": "stdout",
     "output_type": "stream",
     "text": [
      "(101, 'aman', 30)\n",
      "(102, 'anuj', 20)\n",
      "(103, 'mohit', 50)\n",
      "(105, 'nidhi', 30)\n",
      "(106, 'manisha', 30)\n",
      "(107, 'ankush', 30)\n",
      "(104, 'nikhil', 34)\n"
     ]
    }
   ],
   "source": [
    "for row in cur:\n",
    "    print(row)"
   ]
  },
  {
   "cell_type": "code",
   "execution_count": 52,
   "id": "b0188566",
   "metadata": {},
   "outputs": [
    {
     "data": {
      "text/plain": [
       "(101, 'aman', 30)"
      ]
     },
     "execution_count": 52,
     "metadata": {},
     "output_type": "execute_result"
    }
   ],
   "source": [
    "cur.execute('select * from student')\n",
    "cur.fetchone()"
   ]
  },
  {
   "cell_type": "code",
   "execution_count": 54,
   "id": "f11f978c",
   "metadata": {},
   "outputs": [
    {
     "data": {
      "text/plain": [
       "[(101, 'aman', 30), (102, 'anuj', 20), (103, 'mohit', 50)]"
      ]
     },
     "execution_count": 54,
     "metadata": {},
     "output_type": "execute_result"
    }
   ],
   "source": [
    "cur.execute('select * from student')\n",
    "cur.fetchmany(3)"
   ]
  },
  {
   "cell_type": "code",
   "execution_count": 55,
   "id": "7bcad13c",
   "metadata": {},
   "outputs": [
    {
     "data": {
      "text/plain": [
       "[(101, 'aman', 30),\n",
       " (102, 'anuj', 20),\n",
       " (103, 'mohit', 50),\n",
       " (105, 'nidhi', 30),\n",
       " (106, 'manisha', 30),\n",
       " (107, 'ankush', 30),\n",
       " (104, 'nikhil', 34)]"
      ]
     },
     "execution_count": 55,
     "metadata": {},
     "output_type": "execute_result"
    }
   ],
   "source": [
    "cur.execute('select * from student')\n",
    "cur.fetchall()"
   ]
  },
  {
   "cell_type": "code",
   "execution_count": 57,
   "id": "74c4e9ce",
   "metadata": {},
   "outputs": [
    {
     "data": {
      "text/plain": [
       "[(104, 'nikhil', 34), (105, 'nidhi', 30), (106, 'manisha', 30)]"
      ]
     },
     "execution_count": 57,
     "metadata": {},
     "output_type": "execute_result"
    }
   ],
   "source": [
    "cur.execute('select * from student where rollnumber > 103')\n",
    "cur.fetchmany(3)"
   ]
  },
  {
   "cell_type": "code",
   "execution_count": 58,
   "id": "557473a1",
   "metadata": {},
   "outputs": [
    {
     "data": {
      "text/plain": [
       "[(101, 'aman', 30), (102, 'anuj', 20), (107, 'ankush', 30)]"
      ]
     },
     "execution_count": 58,
     "metadata": {},
     "output_type": "execute_result"
    }
   ],
   "source": [
    "cur.execute('select * from student where name like \"a%\"')\n",
    "cur.fetchall()"
   ]
  },
  {
   "cell_type": "code",
   "execution_count": 59,
   "id": "c830087f",
   "metadata": {},
   "outputs": [],
   "source": [
    "db.close()"
   ]
  },
  {
   "cell_type": "code",
   "execution_count": 60,
   "id": "3206a4b2",
   "metadata": {},
   "outputs": [],
   "source": [
    "db = sqlite3.connect('Employee_Detail.sqlite')"
   ]
  },
  {
   "cell_type": "code",
   "execution_count": 61,
   "id": "6cf99755",
   "metadata": {},
   "outputs": [],
   "source": [
    "cur = db.cursor()"
   ]
  },
  {
   "cell_type": "code",
   "execution_count": 66,
   "id": "b9029aca",
   "metadata": {},
   "outputs": [
    {
     "data": {
      "text/plain": [
       "<sqlite3.Cursor at 0x1aadc5072c0>"
      ]
     },
     "execution_count": 66,
     "metadata": {},
     "output_type": "execute_result"
    }
   ],
   "source": [
    "cur.execute('select Employee_ID from Employee_Detail where Department = \"Finance\" ')"
   ]
  },
  {
   "cell_type": "code",
   "execution_count": 67,
   "id": "59319629",
   "metadata": {},
   "outputs": [
    {
     "name": "stdout",
     "output_type": "stream",
     "text": [
      "103\n",
      "107\n"
     ]
    }
   ],
   "source": [
    "ans = cur.fetchall()\n",
    "for i in ans:\n",
    "    print(i[0])"
   ]
  },
  {
   "cell_type": "code",
   "execution_count": 68,
   "id": "e17d1ec8",
   "metadata": {},
   "outputs": [
    {
     "name": "stdout",
     "output_type": "stream",
     "text": [
      "Finance 2\n",
      "Human Resource 2\n",
      "IT 2\n",
      "Marketing 4\n",
      "Operations 2\n"
     ]
    }
   ],
   "source": [
    "cur.execute('select Department,count(*) from Employee_Detail group by Department')\n",
    "ans = cur.fetchall()\n",
    "for i in ans:\n",
    "    print(i[0],i[1])\n",
    "db.close()"
   ]
  },
  {
   "cell_type": "code",
   "execution_count": 69,
   "id": "e775a10e",
   "metadata": {},
   "outputs": [],
   "source": [
    "import pandas as pd"
   ]
  },
  {
   "cell_type": "code",
   "execution_count": 70,
   "id": "8f9c88ee",
   "metadata": {},
   "outputs": [],
   "source": [
    "db = sqlite3.connect('school.sqlite')"
   ]
  },
  {
   "cell_type": "code",
   "execution_count": 71,
   "id": "0f43f29f",
   "metadata": {},
   "outputs": [],
   "source": [
    "data = pd.read_sql_query(\"select * from student \",db)"
   ]
  },
  {
   "cell_type": "code",
   "execution_count": 72,
   "id": "2c7d1223",
   "metadata": {},
   "outputs": [
    {
     "data": {
      "text/html": [
       "<div>\n",
       "<style scoped>\n",
       "    .dataframe tbody tr th:only-of-type {\n",
       "        vertical-align: middle;\n",
       "    }\n",
       "\n",
       "    .dataframe tbody tr th {\n",
       "        vertical-align: top;\n",
       "    }\n",
       "\n",
       "    .dataframe thead th {\n",
       "        text-align: right;\n",
       "    }\n",
       "</style>\n",
       "<table border=\"1\" class=\"dataframe\">\n",
       "  <thead>\n",
       "    <tr style=\"text-align: right;\">\n",
       "      <th></th>\n",
       "      <th>rollnumber</th>\n",
       "      <th>name</th>\n",
       "      <th>age</th>\n",
       "    </tr>\n",
       "  </thead>\n",
       "  <tbody>\n",
       "    <tr>\n",
       "      <th>0</th>\n",
       "      <td>101</td>\n",
       "      <td>aman</td>\n",
       "      <td>30</td>\n",
       "    </tr>\n",
       "    <tr>\n",
       "      <th>1</th>\n",
       "      <td>102</td>\n",
       "      <td>anuj</td>\n",
       "      <td>20</td>\n",
       "    </tr>\n",
       "    <tr>\n",
       "      <th>2</th>\n",
       "      <td>103</td>\n",
       "      <td>mohit</td>\n",
       "      <td>50</td>\n",
       "    </tr>\n",
       "    <tr>\n",
       "      <th>3</th>\n",
       "      <td>105</td>\n",
       "      <td>nidhi</td>\n",
       "      <td>30</td>\n",
       "    </tr>\n",
       "    <tr>\n",
       "      <th>4</th>\n",
       "      <td>106</td>\n",
       "      <td>manisha</td>\n",
       "      <td>30</td>\n",
       "    </tr>\n",
       "    <tr>\n",
       "      <th>5</th>\n",
       "      <td>107</td>\n",
       "      <td>ankush</td>\n",
       "      <td>30</td>\n",
       "    </tr>\n",
       "    <tr>\n",
       "      <th>6</th>\n",
       "      <td>104</td>\n",
       "      <td>nikhil</td>\n",
       "      <td>34</td>\n",
       "    </tr>\n",
       "  </tbody>\n",
       "</table>\n",
       "</div>"
      ],
      "text/plain": [
       "   rollnumber     name  age\n",
       "0         101     aman   30\n",
       "1         102     anuj   20\n",
       "2         103    mohit   50\n",
       "3         105    nidhi   30\n",
       "4         106  manisha   30\n",
       "5         107   ankush   30\n",
       "6         104   nikhil   34"
      ]
     },
     "execution_count": 72,
     "metadata": {},
     "output_type": "execute_result"
    }
   ],
   "source": [
    "data"
   ]
  },
  {
   "cell_type": "code",
   "execution_count": 73,
   "id": "81164f0b",
   "metadata": {},
   "outputs": [
    {
     "data": {
      "text/plain": [
       "0     True\n",
       "1    False\n",
       "2    False\n",
       "3     True\n",
       "4     True\n",
       "5     True\n",
       "6    False\n",
       "Name: age, dtype: bool"
      ]
     },
     "execution_count": 73,
     "metadata": {},
     "output_type": "execute_result"
    }
   ],
   "source": [
    " data['age']==30"
   ]
  },
  {
   "cell_type": "code",
   "execution_count": 74,
   "id": "67b15ce0",
   "metadata": {},
   "outputs": [
    {
     "data": {
      "text/html": [
       "<div>\n",
       "<style scoped>\n",
       "    .dataframe tbody tr th:only-of-type {\n",
       "        vertical-align: middle;\n",
       "    }\n",
       "\n",
       "    .dataframe tbody tr th {\n",
       "        vertical-align: top;\n",
       "    }\n",
       "\n",
       "    .dataframe thead th {\n",
       "        text-align: right;\n",
       "    }\n",
       "</style>\n",
       "<table border=\"1\" class=\"dataframe\">\n",
       "  <thead>\n",
       "    <tr style=\"text-align: right;\">\n",
       "      <th></th>\n",
       "      <th>rollnumber</th>\n",
       "      <th>name</th>\n",
       "      <th>age</th>\n",
       "    </tr>\n",
       "  </thead>\n",
       "  <tbody>\n",
       "    <tr>\n",
       "      <th>0</th>\n",
       "      <td>101</td>\n",
       "      <td>aman</td>\n",
       "      <td>30</td>\n",
       "    </tr>\n",
       "    <tr>\n",
       "      <th>3</th>\n",
       "      <td>105</td>\n",
       "      <td>nidhi</td>\n",
       "      <td>30</td>\n",
       "    </tr>\n",
       "    <tr>\n",
       "      <th>4</th>\n",
       "      <td>106</td>\n",
       "      <td>manisha</td>\n",
       "      <td>30</td>\n",
       "    </tr>\n",
       "    <tr>\n",
       "      <th>5</th>\n",
       "      <td>107</td>\n",
       "      <td>ankush</td>\n",
       "      <td>30</td>\n",
       "    </tr>\n",
       "  </tbody>\n",
       "</table>\n",
       "</div>"
      ],
      "text/plain": [
       "   rollnumber     name  age\n",
       "0         101     aman   30\n",
       "3         105    nidhi   30\n",
       "4         106  manisha   30\n",
       "5         107   ankush   30"
      ]
     },
     "execution_count": 74,
     "metadata": {},
     "output_type": "execute_result"
    }
   ],
   "source": [
    "data[ data['age']==30]"
   ]
  },
  {
   "cell_type": "code",
   "execution_count": 77,
   "id": "c945fda2",
   "metadata": {},
   "outputs": [],
   "source": [
    "data = pd.DataFrame([[201,\"aman\",\"eng\",20000],[202,\"bhavya\",\"maths\", 25000],[203,\"anuj\",\"science\", 25000]],columns = [\"id\",\"name\",\"course\",\"salary\"])"
   ]
  },
  {
   "cell_type": "code",
   "execution_count": 78,
   "id": "907702cb",
   "metadata": {},
   "outputs": [
    {
     "data": {
      "text/html": [
       "<div>\n",
       "<style scoped>\n",
       "    .dataframe tbody tr th:only-of-type {\n",
       "        vertical-align: middle;\n",
       "    }\n",
       "\n",
       "    .dataframe tbody tr th {\n",
       "        vertical-align: top;\n",
       "    }\n",
       "\n",
       "    .dataframe thead th {\n",
       "        text-align: right;\n",
       "    }\n",
       "</style>\n",
       "<table border=\"1\" class=\"dataframe\">\n",
       "  <thead>\n",
       "    <tr style=\"text-align: right;\">\n",
       "      <th></th>\n",
       "      <th>id</th>\n",
       "      <th>name</th>\n",
       "      <th>course</th>\n",
       "      <th>salary</th>\n",
       "    </tr>\n",
       "  </thead>\n",
       "  <tbody>\n",
       "    <tr>\n",
       "      <th>0</th>\n",
       "      <td>201</td>\n",
       "      <td>aman</td>\n",
       "      <td>eng</td>\n",
       "      <td>20000</td>\n",
       "    </tr>\n",
       "    <tr>\n",
       "      <th>1</th>\n",
       "      <td>202</td>\n",
       "      <td>bhavya</td>\n",
       "      <td>maths</td>\n",
       "      <td>25000</td>\n",
       "    </tr>\n",
       "    <tr>\n",
       "      <th>2</th>\n",
       "      <td>203</td>\n",
       "      <td>anuj</td>\n",
       "      <td>science</td>\n",
       "      <td>25000</td>\n",
       "    </tr>\n",
       "  </tbody>\n",
       "</table>\n",
       "</div>"
      ],
      "text/plain": [
       "    id    name   course  salary\n",
       "0  201    aman      eng   20000\n",
       "1  202  bhavya    maths   25000\n",
       "2  203    anuj  science   25000"
      ]
     },
     "execution_count": 78,
     "metadata": {},
     "output_type": "execute_result"
    }
   ],
   "source": [
    "data"
   ]
  },
  {
   "cell_type": "code",
   "execution_count": 79,
   "id": "9a4db824",
   "metadata": {},
   "outputs": [
    {
     "data": {
      "text/plain": [
       "3"
      ]
     },
     "execution_count": 79,
     "metadata": {},
     "output_type": "execute_result"
    }
   ],
   "source": [
    "data.to_sql(\"faculty\",db)"
   ]
  },
  {
   "cell_type": "code",
   "execution_count": 83,
   "id": "e4ebe760",
   "metadata": {},
   "outputs": [
    {
     "data": {
      "text/plain": [
       "7"
      ]
     },
     "execution_count": 83,
     "metadata": {},
     "output_type": "execute_result"
    }
   ],
   "source": [
    "data = pd.read_sql_query(\"select * from student \",db)\n",
    "data[\"address\"]=\"test\"\n",
    "data.to_sql(\"student\",db,if_exists = \"replace\")"
   ]
  },
  {
   "cell_type": "code",
   "execution_count": 84,
   "id": "b0fc7622",
   "metadata": {},
   "outputs": [],
   "source": [
    "db.close()"
   ]
  },
  {
   "cell_type": "code",
   "execution_count": 85,
   "id": "fd1c7673",
   "metadata": {},
   "outputs": [],
   "source": [
    "db = sqlite3.connect('IMDB.sqlite')"
   ]
  },
  {
   "cell_type": "code",
   "execution_count": 86,
   "id": "609bce5b",
   "metadata": {},
   "outputs": [],
   "source": [
    "data = pd.read_sql_query('select * from genre',db)"
   ]
  },
  {
   "cell_type": "code",
   "execution_count": 87,
   "id": "993be788",
   "metadata": {},
   "outputs": [
    {
     "data": {
      "text/html": [
       "<div>\n",
       "<style scoped>\n",
       "    .dataframe tbody tr th:only-of-type {\n",
       "        vertical-align: middle;\n",
       "    }\n",
       "\n",
       "    .dataframe tbody tr th {\n",
       "        vertical-align: top;\n",
       "    }\n",
       "\n",
       "    .dataframe thead th {\n",
       "        text-align: right;\n",
       "    }\n",
       "</style>\n",
       "<table border=\"1\" class=\"dataframe\">\n",
       "  <thead>\n",
       "    <tr style=\"text-align: right;\">\n",
       "      <th></th>\n",
       "      <th>Movie_id</th>\n",
       "      <th>genre</th>\n",
       "    </tr>\n",
       "  </thead>\n",
       "  <tbody>\n",
       "    <tr>\n",
       "      <th>0</th>\n",
       "      <td>36809</td>\n",
       "      <td>Biography</td>\n",
       "    </tr>\n",
       "    <tr>\n",
       "      <th>1</th>\n",
       "      <td>30114</td>\n",
       "      <td>Adventure</td>\n",
       "    </tr>\n",
       "    <tr>\n",
       "      <th>2</th>\n",
       "      <td>37367</td>\n",
       "      <td>Comedy</td>\n",
       "    </tr>\n",
       "    <tr>\n",
       "      <th>3</th>\n",
       "      <td>49473</td>\n",
       "      <td>Comedy</td>\n",
       "    </tr>\n",
       "    <tr>\n",
       "      <th>4</th>\n",
       "      <td>14867</td>\n",
       "      <td>Drama</td>\n",
       "    </tr>\n",
       "    <tr>\n",
       "      <th>...</th>\n",
       "      <td>...</td>\n",
       "      <td>...</td>\n",
       "    </tr>\n",
       "    <tr>\n",
       "      <th>346</th>\n",
       "      <td>38262</td>\n",
       "      <td></td>\n",
       "    </tr>\n",
       "    <tr>\n",
       "      <th>347</th>\n",
       "      <td>10023</td>\n",
       "      <td>Comedy</td>\n",
       "    </tr>\n",
       "    <tr>\n",
       "      <th>348</th>\n",
       "      <td>27783</td>\n",
       "      <td>Sci-Fi</td>\n",
       "    </tr>\n",
       "    <tr>\n",
       "      <th>349</th>\n",
       "      <td>42294</td>\n",
       "      <td>Sci-Fi</td>\n",
       "    </tr>\n",
       "    <tr>\n",
       "      <th>350</th>\n",
       "      <td>32217</td>\n",
       "      <td>Comedy</td>\n",
       "    </tr>\n",
       "  </tbody>\n",
       "</table>\n",
       "<p>351 rows × 2 columns</p>\n",
       "</div>"
      ],
      "text/plain": [
       "    Movie_id      genre\n",
       "0      36809  Biography\n",
       "1      30114  Adventure\n",
       "2      37367     Comedy\n",
       "3      49473     Comedy\n",
       "4      14867      Drama\n",
       "..       ...        ...\n",
       "346    38262           \n",
       "347    10023     Comedy\n",
       "348    27783     Sci-Fi\n",
       "349    42294     Sci-Fi\n",
       "350    32217     Comedy\n",
       "\n",
       "[351 rows x 2 columns]"
      ]
     },
     "execution_count": 87,
     "metadata": {},
     "output_type": "execute_result"
    }
   ],
   "source": [
    "data"
   ]
  },
  {
   "cell_type": "code",
   "execution_count": 88,
   "id": "fad80e46",
   "metadata": {},
   "outputs": [],
   "source": [
    "data = data[data['genre']!='']"
   ]
  },
  {
   "cell_type": "code",
   "execution_count": 89,
   "id": "49db2cb3",
   "metadata": {},
   "outputs": [],
   "source": [
    "data = data[\"genre\"].value_counts()"
   ]
  },
  {
   "cell_type": "code",
   "execution_count": 90,
   "id": "f5d7d671",
   "metadata": {},
   "outputs": [
    {
     "data": {
      "text/plain": [
       "Drama        77\n",
       "Adventure    43\n",
       "Action       33\n",
       "Comedy       31\n",
       "Biography    21\n",
       "Sci-Fi       18\n",
       "Thriller     14\n",
       "Animation    13\n",
       "Romance      13\n",
       "Crime        11\n",
       "Mystery       7\n",
       "Fantasy       7\n",
       "History       6\n",
       "Family        3\n",
       "Sport         3\n",
       "Music         3\n",
       "Western       2\n",
       "War           2\n",
       "Horror        2\n",
       "Musical       1\n",
       "Name: genre, dtype: int64"
      ]
     },
     "execution_count": 90,
     "metadata": {},
     "output_type": "execute_result"
    }
   ],
   "source": [
    "data"
   ]
  },
  {
   "cell_type": "code",
   "execution_count": 91,
   "id": "c99b6147",
   "metadata": {},
   "outputs": [
    {
     "name": "stdout",
     "output_type": "stream",
     "text": [
      "Drama 77\n",
      "Adventure 43\n",
      "Action 33\n",
      "Comedy 31\n",
      "Biography 21\n",
      "Sci-Fi 18\n",
      "Thriller 14\n",
      "Animation 13\n",
      "Romance 13\n",
      "Crime 11\n",
      "Mystery 7\n",
      "Fantasy 7\n",
      "History 6\n",
      "Family 3\n",
      "Sport 3\n",
      "Music 3\n",
      "Western 2\n",
      "War 2\n",
      "Horror 2\n",
      "Musical 1\n"
     ]
    }
   ],
   "source": [
    "for i in range(len(data)):\n",
    "    print(data.index[i],data.values[i])"
   ]
  },
  {
   "cell_type": "code",
   "execution_count": 92,
   "id": "b5e4961c",
   "metadata": {},
   "outputs": [],
   "source": [
    "data = pd.read_sql_query('select * from earning inner join IMDB on earning.Movie_id=IMDB.Movie_id',db)"
   ]
  },
  {
   "cell_type": "code",
   "execution_count": 93,
   "id": "86d51018",
   "metadata": {},
   "outputs": [
    {
     "data": {
      "text/html": [
       "<div>\n",
       "<style scoped>\n",
       "    .dataframe tbody tr th:only-of-type {\n",
       "        vertical-align: middle;\n",
       "    }\n",
       "\n",
       "    .dataframe tbody tr th {\n",
       "        vertical-align: top;\n",
       "    }\n",
       "\n",
       "    .dataframe thead th {\n",
       "        text-align: right;\n",
       "    }\n",
       "</style>\n",
       "<table border=\"1\" class=\"dataframe\">\n",
       "  <thead>\n",
       "    <tr style=\"text-align: right;\">\n",
       "      <th></th>\n",
       "      <th>Movie_id</th>\n",
       "      <th>Domestic</th>\n",
       "      <th>Worldwide</th>\n",
       "      <th>Movie_id</th>\n",
       "      <th>Title</th>\n",
       "      <th>Rating</th>\n",
       "      <th>TotalVotes</th>\n",
       "      <th>MetaCritic</th>\n",
       "      <th>Budget</th>\n",
       "      <th>Runtime</th>\n",
       "      <th>...</th>\n",
       "      <th>Votes3044</th>\n",
       "      <th>Votes3044M</th>\n",
       "      <th>Votes3044F</th>\n",
       "      <th>Votes45A</th>\n",
       "      <th>Votes45AM</th>\n",
       "      <th>Votes45AF</th>\n",
       "      <th>VotesIMDB</th>\n",
       "      <th>Votes1000</th>\n",
       "      <th>VotesUS</th>\n",
       "      <th>VotesnUS</th>\n",
       "    </tr>\n",
       "  </thead>\n",
       "  <tbody>\n",
       "    <tr>\n",
       "      <th>0</th>\n",
       "      <td>36809</td>\n",
       "      <td>56671993</td>\n",
       "      <td>1.877332e+08</td>\n",
       "      <td>36809</td>\n",
       "      <td>12 Years a Slave (2013)</td>\n",
       "      <td>8.1</td>\n",
       "      <td>496092</td>\n",
       "      <td>96</td>\n",
       "      <td>20000000.0</td>\n",
       "      <td>134 min</td>\n",
       "      <td>...</td>\n",
       "      <td>8.0</td>\n",
       "      <td>7.9</td>\n",
       "      <td>8.0</td>\n",
       "      <td>7.8</td>\n",
       "      <td>7.8</td>\n",
       "      <td>8.1</td>\n",
       "      <td>8.0</td>\n",
       "      <td>7.7</td>\n",
       "      <td>8.3</td>\n",
       "      <td>8.0</td>\n",
       "    </tr>\n",
       "    <tr>\n",
       "      <th>1</th>\n",
       "      <td>30114</td>\n",
       "      <td>18335230</td>\n",
       "      <td>6.073880e+07</td>\n",
       "      <td>30114</td>\n",
       "      <td>127 Hours (2010)</td>\n",
       "      <td>7.6</td>\n",
       "      <td>297075</td>\n",
       "      <td>82</td>\n",
       "      <td>18000000.0</td>\n",
       "      <td>94 min</td>\n",
       "      <td>...</td>\n",
       "      <td>7.5</td>\n",
       "      <td>7.5</td>\n",
       "      <td>7.5</td>\n",
       "      <td>7.3</td>\n",
       "      <td>7.3</td>\n",
       "      <td>7.5</td>\n",
       "      <td>7.6</td>\n",
       "      <td>7.0</td>\n",
       "      <td>7.7</td>\n",
       "      <td>7.6</td>\n",
       "    </tr>\n",
       "    <tr>\n",
       "      <th>2</th>\n",
       "      <td>37367</td>\n",
       "      <td>35014192</td>\n",
       "      <td>3.918778e+07</td>\n",
       "      <td>37367</td>\n",
       "      <td>50/50 (2011)</td>\n",
       "      <td>7.7</td>\n",
       "      <td>283935</td>\n",
       "      <td>72</td>\n",
       "      <td>8000000.0</td>\n",
       "      <td>100 min</td>\n",
       "      <td>...</td>\n",
       "      <td>7.6</td>\n",
       "      <td>7.6</td>\n",
       "      <td>7.6</td>\n",
       "      <td>7.4</td>\n",
       "      <td>7.4</td>\n",
       "      <td>7.5</td>\n",
       "      <td>7.4</td>\n",
       "      <td>7.0</td>\n",
       "      <td>7.9</td>\n",
       "      <td>7.6</td>\n",
       "    </tr>\n",
       "    <tr>\n",
       "      <th>3</th>\n",
       "      <td>49473</td>\n",
       "      <td>15322921</td>\n",
       "      <td>8.710045e+07</td>\n",
       "      <td>49473</td>\n",
       "      <td>About Time (2013)</td>\n",
       "      <td>7.8</td>\n",
       "      <td>225412</td>\n",
       "      <td></td>\n",
       "      <td>12000000.0</td>\n",
       "      <td>123 min</td>\n",
       "      <td>...</td>\n",
       "      <td>7.6</td>\n",
       "      <td>7.6</td>\n",
       "      <td>7.7</td>\n",
       "      <td>7.6</td>\n",
       "      <td>7.5</td>\n",
       "      <td>7.8</td>\n",
       "      <td>7.7</td>\n",
       "      <td>6.9</td>\n",
       "      <td>7.8</td>\n",
       "      <td>7.7</td>\n",
       "    </tr>\n",
       "    <tr>\n",
       "      <th>4</th>\n",
       "      <td>14867</td>\n",
       "      <td>6739492</td>\n",
       "      <td>1.983949e+07</td>\n",
       "      <td>14867</td>\n",
       "      <td>Amour (2012)</td>\n",
       "      <td>7.9</td>\n",
       "      <td>76121</td>\n",
       "      <td>94</td>\n",
       "      <td>8900000.0</td>\n",
       "      <td>127 min</td>\n",
       "      <td>...</td>\n",
       "      <td>7.7</td>\n",
       "      <td>7.7</td>\n",
       "      <td>7.9</td>\n",
       "      <td>7.9</td>\n",
       "      <td>7.8</td>\n",
       "      <td>8.1</td>\n",
       "      <td>6.6</td>\n",
       "      <td>7.2</td>\n",
       "      <td>7.9</td>\n",
       "      <td>7.8</td>\n",
       "    </tr>\n",
       "    <tr>\n",
       "      <th>...</th>\n",
       "      <td>...</td>\n",
       "      <td>...</td>\n",
       "      <td>...</td>\n",
       "      <td>...</td>\n",
       "      <td>...</td>\n",
       "      <td>...</td>\n",
       "      <td>...</td>\n",
       "      <td>...</td>\n",
       "      <td>...</td>\n",
       "      <td>...</td>\n",
       "      <td>...</td>\n",
       "      <td>...</td>\n",
       "      <td>...</td>\n",
       "      <td>...</td>\n",
       "      <td>...</td>\n",
       "      <td>...</td>\n",
       "      <td>...</td>\n",
       "      <td>...</td>\n",
       "      <td>...</td>\n",
       "      <td>...</td>\n",
       "      <td>...</td>\n",
       "    </tr>\n",
       "    <tr>\n",
       "      <th>112</th>\n",
       "      <td>38262</td>\n",
       "      <td>13092000</td>\n",
       "      <td>4.898204e+07</td>\n",
       "      <td>38262</td>\n",
       "      <td>Whiplash (2014)</td>\n",
       "      <td>8.5</td>\n",
       "      <td>492285</td>\n",
       "      <td>88</td>\n",
       "      <td>3300000.0</td>\n",
       "      <td>107 min</td>\n",
       "      <td>...</td>\n",
       "      <td>8.3</td>\n",
       "      <td>8.3</td>\n",
       "      <td>8.2</td>\n",
       "      <td>8.1</td>\n",
       "      <td>8.1</td>\n",
       "      <td>8.2</td>\n",
       "      <td>8.7</td>\n",
       "      <td>8.0</td>\n",
       "      <td>8.6</td>\n",
       "      <td>8.4</td>\n",
       "    </tr>\n",
       "    <tr>\n",
       "      <th>113</th>\n",
       "      <td>10023</td>\n",
       "      <td>189422889</td>\n",
       "      <td>4.712229e+08</td>\n",
       "      <td>10023</td>\n",
       "      <td>Wreck-It Ralph (2012)</td>\n",
       "      <td>7.7</td>\n",
       "      <td>295125</td>\n",
       "      <td>72</td>\n",
       "      <td>165000000.0</td>\n",
       "      <td></td>\n",
       "      <td>...</td>\n",
       "      <td>7.6</td>\n",
       "      <td>7.6</td>\n",
       "      <td>7.7</td>\n",
       "      <td>7.4</td>\n",
       "      <td>7.4</td>\n",
       "      <td>7.5</td>\n",
       "      <td>7.4</td>\n",
       "      <td>7.2</td>\n",
       "      <td>7.9</td>\n",
       "      <td>7.6</td>\n",
       "    </tr>\n",
       "    <tr>\n",
       "      <th>114</th>\n",
       "      <td>27783</td>\n",
       "      <td>233921534</td>\n",
       "      <td>7.478628e+08</td>\n",
       "      <td>27783</td>\n",
       "      <td>X-Men: Days of Future Past (2014)</td>\n",
       "      <td>8.0</td>\n",
       "      <td>560736</td>\n",
       "      <td>74</td>\n",
       "      <td>200000000.0</td>\n",
       "      <td>132 min</td>\n",
       "      <td>...</td>\n",
       "      <td>7.8</td>\n",
       "      <td>7.8</td>\n",
       "      <td>8.0</td>\n",
       "      <td>7.7</td>\n",
       "      <td>7.7</td>\n",
       "      <td>7.9</td>\n",
       "      <td>7.5</td>\n",
       "      <td>7.4</td>\n",
       "      <td>8.1</td>\n",
       "      <td>7.9</td>\n",
       "    </tr>\n",
       "    <tr>\n",
       "      <th>115</th>\n",
       "      <td>42294</td>\n",
       "      <td>146408305</td>\n",
       "      <td>3.536241e+08</td>\n",
       "      <td>42294</td>\n",
       "      <td>X-Men: First Class (2011)</td>\n",
       "      <td>7.8</td>\n",
       "      <td>556713</td>\n",
       "      <td>65</td>\n",
       "      <td>160000000.0</td>\n",
       "      <td>132 min</td>\n",
       "      <td>...</td>\n",
       "      <td>7.7</td>\n",
       "      <td>7.6</td>\n",
       "      <td>7.8</td>\n",
       "      <td>7.6</td>\n",
       "      <td>7.5</td>\n",
       "      <td>7.7</td>\n",
       "      <td>7.6</td>\n",
       "      <td>7.3</td>\n",
       "      <td>7.8</td>\n",
       "      <td>7.7</td>\n",
       "    </tr>\n",
       "    <tr>\n",
       "      <th>116</th>\n",
       "      <td>32217</td>\n",
       "      <td>341268248</td>\n",
       "      <td>1.023784e+09</td>\n",
       "      <td>32217</td>\n",
       "      <td>Zootopia (2016)</td>\n",
       "      <td>8.1</td>\n",
       "      <td>309474</td>\n",
       "      <td>78</td>\n",
       "      <td>150000000.0</td>\n",
       "      <td>108 min</td>\n",
       "      <td>...</td>\n",
       "      <td>7.8</td>\n",
       "      <td>7.8</td>\n",
       "      <td>8.1</td>\n",
       "      <td>7.8</td>\n",
       "      <td>7.8</td>\n",
       "      <td>8.1</td>\n",
       "      <td>7.7</td>\n",
       "      <td>7.6</td>\n",
       "      <td>8.0</td>\n",
       "      <td>8.0</td>\n",
       "    </tr>\n",
       "  </tbody>\n",
       "</table>\n",
       "<p>117 rows × 55 columns</p>\n",
       "</div>"
      ],
      "text/plain": [
       "    Movie_id   Domestic     Worldwide Movie_id  \\\n",
       "0      36809   56671993  1.877332e+08    36809   \n",
       "1      30114   18335230  6.073880e+07    30114   \n",
       "2      37367   35014192  3.918778e+07    37367   \n",
       "3      49473   15322921  8.710045e+07    49473   \n",
       "4      14867    6739492  1.983949e+07    14867   \n",
       "..       ...        ...           ...      ...   \n",
       "112    38262   13092000  4.898204e+07    38262   \n",
       "113    10023  189422889  4.712229e+08    10023   \n",
       "114    27783  233921534  7.478628e+08    27783   \n",
       "115    42294  146408305  3.536241e+08    42294   \n",
       "116    32217  341268248  1.023784e+09    32217   \n",
       "\n",
       "                                 Title  Rating  TotalVotes MetaCritic  \\\n",
       "0              12 Years a Slave (2013)     8.1      496092         96   \n",
       "1                     127 Hours (2010)     7.6      297075         82   \n",
       "2                         50/50 (2011)     7.7      283935         72   \n",
       "3                    About Time (2013)     7.8      225412              \n",
       "4                         Amour (2012)     7.9       76121         94   \n",
       "..                                 ...     ...         ...        ...   \n",
       "112                    Whiplash (2014)     8.5      492285         88   \n",
       "113              Wreck-It Ralph (2012)     7.7      295125         72   \n",
       "114  X-Men: Days of Future Past (2014)     8.0      560736         74   \n",
       "115          X-Men: First Class (2011)     7.8      556713         65   \n",
       "116                    Zootopia (2016)     8.1      309474         78   \n",
       "\n",
       "          Budget  Runtime  ... Votes3044 Votes3044M Votes3044F Votes45A  \\\n",
       "0     20000000.0  134 min  ...       8.0        7.9        8.0      7.8   \n",
       "1     18000000.0   94 min  ...       7.5        7.5        7.5      7.3   \n",
       "2      8000000.0  100 min  ...       7.6        7.6        7.6      7.4   \n",
       "3     12000000.0  123 min  ...       7.6        7.6        7.7      7.6   \n",
       "4      8900000.0  127 min  ...       7.7        7.7        7.9      7.9   \n",
       "..           ...      ...  ...       ...        ...        ...      ...   \n",
       "112    3300000.0  107 min  ...       8.3        8.3        8.2      8.1   \n",
       "113  165000000.0           ...       7.6        7.6        7.7      7.4   \n",
       "114  200000000.0  132 min  ...       7.8        7.8        8.0      7.7   \n",
       "115  160000000.0  132 min  ...       7.7        7.6        7.8      7.6   \n",
       "116  150000000.0  108 min  ...       7.8        7.8        8.1      7.8   \n",
       "\n",
       "    Votes45AM Votes45AF VotesIMDB Votes1000 VotesUS VotesnUS  \n",
       "0         7.8       8.1       8.0       7.7     8.3      8.0  \n",
       "1         7.3       7.5       7.6       7.0     7.7      7.6  \n",
       "2         7.4       7.5       7.4       7.0     7.9      7.6  \n",
       "3         7.5       7.8       7.7       6.9     7.8      7.7  \n",
       "4         7.8       8.1       6.6       7.2     7.9      7.8  \n",
       "..        ...       ...       ...       ...     ...      ...  \n",
       "112       8.1       8.2       8.7       8.0     8.6      8.4  \n",
       "113       7.4       7.5       7.4       7.2     7.9      7.6  \n",
       "114       7.7       7.9       7.5       7.4     8.1      7.9  \n",
       "115       7.5       7.7       7.6       7.3     7.8      7.7  \n",
       "116       7.8       8.1       7.7       7.6     8.0      8.0  \n",
       "\n",
       "[117 rows x 55 columns]"
      ]
     },
     "execution_count": 93,
     "metadata": {},
     "output_type": "execute_result"
    }
   ],
   "source": [
    "data"
   ]
  },
  {
   "cell_type": "code",
   "execution_count": 95,
   "id": "67f72019",
   "metadata": {},
   "outputs": [
    {
     "name": "stdout",
     "output_type": "stream",
     "text": [
      "8.1\n"
     ]
    }
   ],
   "source": [
    "data['total'] = data['Domestic']+data['Worldwide']\n",
    "max1 = max(data[\"total\"])\n",
    "data = data[data['total']==max1]\n",
    "print(data.values[0][5])"
   ]
  },
  {
   "cell_type": "code",
   "execution_count": null,
   "id": "d08a373b",
   "metadata": {},
   "outputs": [],
   "source": []
  }
 ],
 "metadata": {
  "kernelspec": {
   "display_name": "Python 3 (ipykernel)",
   "language": "python",
   "name": "python3"
  },
  "language_info": {
   "codemirror_mode": {
    "name": "ipython",
    "version": 3
   },
   "file_extension": ".py",
   "mimetype": "text/x-python",
   "name": "python",
   "nbconvert_exporter": "python",
   "pygments_lexer": "ipython3",
   "version": "3.11.0"
  }
 },
 "nbformat": 4,
 "nbformat_minor": 5
}
