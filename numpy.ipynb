{
 "cells": [
  {
   "cell_type": "code",
   "execution_count": 1,
   "id": "d3325003",
   "metadata": {},
   "outputs": [],
   "source": [
    "import numpy as np\n",
    "\n",
    "b = np.empty(2 , dtype = int)"
   ]
  },
  {
   "cell_type": "code",
   "execution_count": 6,
   "id": "a0a27031",
   "metadata": {},
   "outputs": [
    {
     "name": "stdout",
     "output_type": "stream",
     "text": [
      "Requirement already satisfied: numpy in c:\\users\\anuj\\appdata\\local\\programs\\python\\python311\\lib\\site-packages (1.24.2)"
     ]
    },
    {
     "name": "stderr",
     "output_type": "stream",
     "text": [
      "\n",
      "[notice] A new release of pip available: 22.3 -> 23.0.1\n",
      "[notice] To update, run: python.exe -m pip install --upgrade pip\n"
     ]
    },
    {
     "name": "stdout",
     "output_type": "stream",
     "text": [
      "\n"
     ]
    }
   ],
   "source": [
    "!pip install numpy"
   ]
  },
  {
   "cell_type": "code",
   "execution_count": 11,
   "id": "08d18c00",
   "metadata": {},
   "outputs": [
    {
     "name": "stdout",
     "output_type": "stream",
     "text": [
      "Requirement already satisfied: pip in c:\\users\\anuj\\appdata\\local\\programs\\python\\python311\\lib\\site-packages (22.3)\n",
      "Collecting pip\n",
      "  Downloading pip-23.0.1-py3-none-any.whl (2.1 MB)\n",
      "     ---------------------------------------- 2.1/2.1 MB 2.6 MB/s eta 0:00:00\n",
      "Installing collected packages: pip\n",
      "  Attempting uninstall: pip\n",
      "    Found existing installation: pip 22.3\n",
      "    Uninstalling pip-22.3:\n",
      "      Successfully uninstalled pip-22.3\n",
      "Successfully installed pip-23.0.1\n"
     ]
    }
   ],
   "source": [
    "!python.exe -m pip install --upgrade pip"
   ]
  },
  {
   "cell_type": "code",
   "execution_count": 12,
   "id": "91aa483a",
   "metadata": {},
   "outputs": [
    {
     "name": "stdout",
     "output_type": "stream",
     "text": [
      "Requirement already satisfied: numpy in c:\\users\\anuj\\appdata\\local\\programs\\python\\python311\\lib\\site-packages (1.24.2)\n"
     ]
    }
   ],
   "source": [
    "!pip install numpy"
   ]
  },
  {
   "cell_type": "code",
   "execution_count": 13,
   "id": "d96a1ccd",
   "metadata": {},
   "outputs": [
    {
     "data": {
      "text/plain": [
       "array([-1998362383,  1055193269])"
      ]
     },
     "execution_count": 13,
     "metadata": {},
     "output_type": "execute_result"
    }
   ],
   "source": [
    "import numpy as np\n",
    "\n",
    "b = np.empty(2 , dtype = int)\n",
    "b"
   ]
  },
  {
   "cell_type": "code",
   "execution_count": 14,
   "id": "9a1d6870",
   "metadata": {},
   "outputs": [],
   "source": [
    "b = np.empty([2,2] , dtype = int)"
   ]
  },
  {
   "cell_type": "code",
   "execution_count": 15,
   "id": "5e0f60e7",
   "metadata": {},
   "outputs": [
    {
     "data": {
      "text/plain": [
       "array([[ 1101751302,  -100440296],\n",
       "       [ -355296188, -1625666237]])"
      ]
     },
     "execution_count": 15,
     "metadata": {},
     "output_type": "execute_result"
    }
   ],
   "source": [
    "b"
   ]
  },
  {
   "cell_type": "code",
   "execution_count": 16,
   "id": "bf8d7959",
   "metadata": {},
   "outputs": [],
   "source": [
    "b = np.empty((2,2) , dtype = int)"
   ]
  },
  {
   "cell_type": "code",
   "execution_count": 17,
   "id": "1f0537ab",
   "metadata": {},
   "outputs": [
    {
     "data": {
      "text/plain": [
       "array([[ 1101751302,  -100440296],\n",
       "       [ -355296188, -1625666237]])"
      ]
     },
     "execution_count": 17,
     "metadata": {},
     "output_type": "execute_result"
    }
   ],
   "source": [
    "b"
   ]
  },
  {
   "cell_type": "code",
   "execution_count": 18,
   "id": "5aba9763",
   "metadata": {},
   "outputs": [],
   "source": [
    "b = np.empty([3,3])"
   ]
  },
  {
   "cell_type": "code",
   "execution_count": 19,
   "id": "a1507b80",
   "metadata": {},
   "outputs": [
    {
     "data": {
      "text/plain": [
       "array([[0.00000000e+000, 0.00000000e+000, 0.00000000e+000],\n",
       "       [0.00000000e+000, 0.00000000e+000, 5.11852009e-321],\n",
       "       [1.37959740e-306, 2.29175545e-312, 0.00000000e+000]])"
      ]
     },
     "execution_count": 19,
     "metadata": {},
     "output_type": "execute_result"
    }
   ],
   "source": [
    "b"
   ]
  },
  {
   "cell_type": "code",
   "execution_count": 20,
   "id": "5c44e632",
   "metadata": {},
   "outputs": [],
   "source": [
    "a = [[1,2,3],[4,5,6],[7,8,9]]\n",
    "b = np.array(a)"
   ]
  },
  {
   "cell_type": "code",
   "execution_count": 21,
   "id": "861b4929",
   "metadata": {},
   "outputs": [
    {
     "data": {
      "text/plain": [
       "array([[1, 2, 3],\n",
       "       [4, 5, 6],\n",
       "       [7, 8, 9]])"
      ]
     },
     "execution_count": 21,
     "metadata": {},
     "output_type": "execute_result"
    }
   ],
   "source": [
    "b"
   ]
  },
  {
   "cell_type": "code",
   "execution_count": 28,
   "id": "2e838005",
   "metadata": {},
   "outputs": [],
   "source": [
    "b = np.zeros(10,dtype = int)"
   ]
  },
  {
   "cell_type": "code",
   "execution_count": 29,
   "id": "97f47224",
   "metadata": {},
   "outputs": [],
   "source": [
    "b[4] = 1"
   ]
  },
  {
   "cell_type": "code",
   "execution_count": 30,
   "id": "0f1dad18",
   "metadata": {},
   "outputs": [
    {
     "data": {
      "text/plain": [
       "array([0, 0, 0, 0, 1, 0, 0, 0, 0, 0])"
      ]
     },
     "execution_count": 30,
     "metadata": {},
     "output_type": "execute_result"
    }
   ],
   "source": [
    "b"
   ]
  },
  {
   "cell_type": "code",
   "execution_count": 3,
   "id": "7062227a",
   "metadata": {},
   "outputs": [
    {
     "data": {
      "text/plain": [
       "(4,)"
      ]
     },
     "execution_count": 3,
     "metadata": {},
     "output_type": "execute_result"
    }
   ],
   "source": [
    "a = np.array([0,1,2,3])\n",
    "a.shape"
   ]
  },
  {
   "cell_type": "code",
   "execution_count": 4,
   "id": "43d4c266",
   "metadata": {},
   "outputs": [
    {
     "data": {
      "text/plain": [
       "0.4220276827335683"
      ]
     },
     "execution_count": 4,
     "metadata": {},
     "output_type": "execute_result"
    }
   ],
   "source": [
    "np.random.rand()"
   ]
  },
  {
   "cell_type": "code",
   "execution_count": 6,
   "id": "08d4b5d5",
   "metadata": {},
   "outputs": [
    {
     "ename": "ValueError",
     "evalue": "low >= high",
     "output_type": "error",
     "traceback": [
      "\u001b[1;31m---------------------------------------------------------------------------\u001b[0m",
      "\u001b[1;31mValueError\u001b[0m                                Traceback (most recent call last)",
      "Cell \u001b[1;32mIn [6], line 1\u001b[0m\n\u001b[1;32m----> 1\u001b[0m \u001b[43mnp\u001b[49m\u001b[38;5;241;43m.\u001b[39;49m\u001b[43mrandom\u001b[49m\u001b[38;5;241;43m.\u001b[39;49m\u001b[43mrandint\u001b[49m\u001b[43m(\u001b[49m\u001b[38;5;241;43m10\u001b[39;49m\u001b[43m,\u001b[49m\u001b[38;5;241;43m4\u001b[39;49m\u001b[43m)\u001b[49m\n",
      "File \u001b[1;32mmtrand.pyx:763\u001b[0m, in \u001b[0;36mnumpy.random.mtrand.RandomState.randint\u001b[1;34m()\u001b[0m\n",
      "File \u001b[1;32m_bounded_integers.pyx:1338\u001b[0m, in \u001b[0;36mnumpy.random._bounded_integers._rand_int32\u001b[1;34m()\u001b[0m\n",
      "\u001b[1;31mValueError\u001b[0m: low >= high"
     ]
    }
   ],
   "source": [
    "np.random.randint(10,4)"
   ]
  },
  {
   "cell_type": "code",
   "execution_count": 8,
   "id": "45499bca",
   "metadata": {},
   "outputs": [
    {
     "data": {
      "text/plain": [
       "array([[8, 4, 5, 7],\n",
       "       [8, 2, 9, 3],\n",
       "       [8, 8, 5, 9],\n",
       "       [1, 6, 3, 5]])"
      ]
     },
     "execution_count": 8,
     "metadata": {},
     "output_type": "execute_result"
    }
   ],
   "source": [
    "np.random.randint(10, size=(4,4))"
   ]
  },
  {
   "cell_type": "code",
   "execution_count": 13,
   "id": "930ce121",
   "metadata": {},
   "outputs": [
    {
     "data": {
      "text/plain": [
       "array([[3.13753351, 3.82845216, 1.58088305, 9.40976289],\n",
       "       [7.68338555, 5.70285287, 4.71337172, 5.02602087],\n",
       "       [8.72475443, 0.48290967, 9.65050056, 4.19848885],\n",
       "       [0.45406655, 7.94552112, 5.27151126, 1.2319601 ]])"
      ]
     },
     "execution_count": 13,
     "metadata": {},
     "output_type": "execute_result"
    }
   ],
   "source": [
    "np.random.rand(4,4)*10"
   ]
  },
  {
   "cell_type": "code",
   "execution_count": 14,
   "id": "c0102910",
   "metadata": {},
   "outputs": [
    {
     "data": {
      "text/plain": [
       "array([ 9, 10, 11, 12, 13, 14, 15, 16, 17, 18, 19, 20, 21, 22, 23, 24, 25,\n",
       "       26, 27, 28, 29, 30, 31, 32, 33, 34, 35, 36, 37, 38, 39, 40, 41, 42,\n",
       "       43, 44, 45, 46, 47, 48, 49])"
      ]
     },
     "execution_count": 14,
     "metadata": {},
     "output_type": "execute_result"
    }
   ],
   "source": [
    "np.arange(9,50,dtype=int)"
   ]
  },
  {
   "cell_type": "code",
   "execution_count": 15,
   "id": "beb86c4f",
   "metadata": {},
   "outputs": [
    {
     "data": {
      "text/plain": [
       "array([ 9, 10, 11, 12, 13, 14, 15, 16, 17, 18, 19, 20, 21, 22, 23, 24, 25,\n",
       "       26, 27, 28, 29, 30, 31, 32, 33, 34, 35, 36, 37, 38, 39, 40, 41, 42,\n",
       "       43, 44, 45, 46, 47, 49])"
      ]
     },
     "execution_count": 15,
     "metadata": {},
     "output_type": "execute_result"
    }
   ],
   "source": [
    "np.linspace(9,49,40,dtype=int)"
   ]
  },
  {
   "cell_type": "code",
   "execution_count": 16,
   "id": "944f9d6f",
   "metadata": {},
   "outputs": [
    {
     "data": {
      "text/plain": [
       "array([[1., 0., 0., 0., 0.],\n",
       "       [0., 1., 0., 0., 0.],\n",
       "       [0., 0., 1., 0., 0.],\n",
       "       [0., 0., 0., 1., 0.],\n",
       "       [0., 0., 0., 0., 1.],\n",
       "       [0., 0., 0., 0., 0.]])"
      ]
     },
     "execution_count": 16,
     "metadata": {},
     "output_type": "execute_result"
    }
   ],
   "source": [
    "np.eye(6,5)"
   ]
  },
  {
   "cell_type": "code",
   "execution_count": 17,
   "id": "20aba754",
   "metadata": {},
   "outputs": [
    {
     "data": {
      "text/plain": [
       "array([1. , 1.5, 2. , 2.5, 3. , 3.5, 4. , 4.5, 5. ])"
      ]
     },
     "execution_count": 17,
     "metadata": {},
     "output_type": "execute_result"
    }
   ],
   "source": [
    "np.linspace(1,5,9)"
   ]
  },
  {
   "cell_type": "code",
   "execution_count": 20,
   "id": "99f54a08",
   "metadata": {},
   "outputs": [],
   "source": [
    "a = np.random.randint(1,21, size=(4,5))"
   ]
  },
  {
   "cell_type": "code",
   "execution_count": 21,
   "id": "b6ec46c1",
   "metadata": {},
   "outputs": [
    {
     "data": {
      "text/plain": [
       "array([[19,  7,  2,  1,  4],\n",
       "       [ 2,  4, 17,  5, 10],\n",
       "       [17, 16, 16,  5,  7],\n",
       "       [18, 16,  4, 15, 13]])"
      ]
     },
     "execution_count": 21,
     "metadata": {},
     "output_type": "execute_result"
    }
   ],
   "source": [
    "a"
   ]
  },
  {
   "cell_type": "code",
   "execution_count": 22,
   "id": "fee37ddc",
   "metadata": {},
   "outputs": [],
   "source": [
    "a = np.array([[1,2,3,4,5],[6,7,8,9,10],[11,12,13,14,15],[16,17,18,19,20]])"
   ]
  },
  {
   "cell_type": "code",
   "execution_count": 23,
   "id": "a4db9e29",
   "metadata": {},
   "outputs": [
    {
     "data": {
      "text/plain": [
       "array([[ 1,  2,  3,  4,  5],\n",
       "       [ 6,  7,  8,  9, 10],\n",
       "       [11, 12, 13, 14, 15],\n",
       "       [16, 17, 18, 19, 20]])"
      ]
     },
     "execution_count": 23,
     "metadata": {},
     "output_type": "execute_result"
    }
   ],
   "source": [
    "a"
   ]
  },
  {
   "cell_type": "code",
   "execution_count": 24,
   "id": "8cffe0cb",
   "metadata": {},
   "outputs": [
    {
     "data": {
      "text/plain": [
       "array([11, 12, 13])"
      ]
     },
     "execution_count": 24,
     "metadata": {},
     "output_type": "execute_result"
    }
   ],
   "source": [
    "a[2,0:3]"
   ]
  },
  {
   "cell_type": "code",
   "execution_count": 25,
   "id": "ba4220d1",
   "metadata": {},
   "outputs": [
    {
     "data": {
      "text/plain": [
       "array([ 9, 14, 19])"
      ]
     },
     "execution_count": 25,
     "metadata": {},
     "output_type": "execute_result"
    }
   ],
   "source": [
    "a[1:4,3]"
   ]
  },
  {
   "cell_type": "code",
   "execution_count": 26,
   "id": "866b2226",
   "metadata": {},
   "outputs": [
    {
     "data": {
      "text/plain": [
       "array([[11, 12, 13, 14, 15],\n",
       "       [16, 17, 18, 19, 20]])"
      ]
     },
     "execution_count": 26,
     "metadata": {},
     "output_type": "execute_result"
    }
   ],
   "source": [
    "a[2:4,0:5]"
   ]
  },
  {
   "cell_type": "code",
   "execution_count": 27,
   "id": "8c89caea",
   "metadata": {},
   "outputs": [
    {
     "data": {
      "text/plain": [
       "array([[ 7,  8],\n",
       "       [12, 13]])"
      ]
     },
     "execution_count": 27,
     "metadata": {},
     "output_type": "execute_result"
    }
   ],
   "source": [
    "a[1:3,1:3]"
   ]
  },
  {
   "cell_type": "code",
   "execution_count": 28,
   "id": "12b68b84",
   "metadata": {},
   "outputs": [],
   "source": [
    "a = np.array([1,2,0,0,4,0])"
   ]
  },
  {
   "cell_type": "code",
   "execution_count": 29,
   "id": "01cbcee4",
   "metadata": {},
   "outputs": [
    {
     "name": "stdout",
     "output_type": "stream",
     "text": [
      "[1 2 4]\n"
     ]
    }
   ],
   "source": [
    "print(a[a>0])"
   ]
  },
  {
   "cell_type": "code",
   "execution_count": 30,
   "id": "074e634d",
   "metadata": {},
   "outputs": [],
   "source": [
    "ind = np.where(a>0)"
   ]
  },
  {
   "cell_type": "code",
   "execution_count": 31,
   "id": "47d582aa",
   "metadata": {},
   "outputs": [
    {
     "data": {
      "text/plain": [
       "(array([0, 1, 4], dtype=int64),)"
      ]
     },
     "execution_count": 31,
     "metadata": {},
     "output_type": "execute_result"
    }
   ],
   "source": [
    "ind"
   ]
  },
  {
   "cell_type": "code",
   "execution_count": 34,
   "id": "0ed774f3",
   "metadata": {},
   "outputs": [],
   "source": [
    "a = np.arange(1,20,2)"
   ]
  },
  {
   "cell_type": "code",
   "execution_count": 35,
   "id": "bd787946",
   "metadata": {},
   "outputs": [
    {
     "data": {
      "text/plain": [
       "array([ 1,  3,  5,  7,  9, 11, 13, 15, 17, 19])"
      ]
     },
     "execution_count": 35,
     "metadata": {},
     "output_type": "execute_result"
    }
   ],
   "source": [
    "a"
   ]
  },
  {
   "cell_type": "code",
   "execution_count": 36,
   "id": "dc983632",
   "metadata": {},
   "outputs": [
    {
     "name": "stdout",
     "output_type": "stream",
     "text": [
      "(array([1, 4, 7], dtype=int64),)\n"
     ]
    }
   ],
   "source": [
    "print(np.where(a%3==0))"
   ]
  },
  {
   "cell_type": "code",
   "execution_count": 39,
   "id": "771a8a05",
   "metadata": {},
   "outputs": [],
   "source": [
    "a = np.arange(1,11)"
   ]
  },
  {
   "cell_type": "code",
   "execution_count": 40,
   "id": "7f2658db",
   "metadata": {},
   "outputs": [
    {
     "data": {
      "text/plain": [
       "array([ 1,  2,  3,  4,  5,  6,  7,  8,  9, 10])"
      ]
     },
     "execution_count": 40,
     "metadata": {},
     "output_type": "execute_result"
    }
   ],
   "source": [
    "a"
   ]
  },
  {
   "cell_type": "code",
   "execution_count": 42,
   "id": "2f8318bf",
   "metadata": {},
   "outputs": [],
   "source": [
    "a[a%2!=0]=-1"
   ]
  },
  {
   "cell_type": "code",
   "execution_count": 43,
   "id": "f38ce3b7",
   "metadata": {},
   "outputs": [
    {
     "data": {
      "text/plain": [
       "array([-1,  2, -1,  4, -1,  6, -1,  8, -1, 10])"
      ]
     },
     "execution_count": 43,
     "metadata": {},
     "output_type": "execute_result"
    }
   ],
   "source": [
    "a\n"
   ]
  },
  {
   "cell_type": "code",
   "execution_count": 51,
   "id": "6230dbe5",
   "metadata": {},
   "outputs": [],
   "source": [
    "a = np.random.randint(1,10, size =(1,10))"
   ]
  },
  {
   "cell_type": "code",
   "execution_count": 52,
   "id": "a7761b4d",
   "metadata": {},
   "outputs": [
    {
     "data": {
      "text/plain": [
       "array([[9, 7, 8, 6, 9, 2, 2, 7, 7, 6]])"
      ]
     },
     "execution_count": 52,
     "metadata": {},
     "output_type": "execute_result"
    }
   ],
   "source": [
    "a\n"
   ]
  },
  {
   "cell_type": "code",
   "execution_count": 53,
   "id": "59009c27",
   "metadata": {},
   "outputs": [],
   "source": [
    "a = np.array([11,2,13,4,15,6,27,8,19])"
   ]
  },
  {
   "cell_type": "code",
   "execution_count": 54,
   "id": "b278a717",
   "metadata": {},
   "outputs": [
    {
     "data": {
      "text/plain": [
       "array([11,  2, 13,  4, 15,  6, 27,  8, 19])"
      ]
     },
     "execution_count": 54,
     "metadata": {},
     "output_type": "execute_result"
    }
   ],
   "source": [
    "a"
   ]
  },
  {
   "cell_type": "code",
   "execution_count": 55,
   "id": "4da1a9da",
   "metadata": {},
   "outputs": [],
   "source": [
    "b = a.argmax()"
   ]
  },
  {
   "cell_type": "code",
   "execution_count": 56,
   "id": "f47ab361",
   "metadata": {},
   "outputs": [
    {
     "data": {
      "text/plain": [
       "6"
      ]
     },
     "execution_count": 56,
     "metadata": {},
     "output_type": "execute_result"
    }
   ],
   "source": [
    "b"
   ]
  },
  {
   "cell_type": "code",
   "execution_count": 57,
   "id": "9ab13c0d",
   "metadata": {},
   "outputs": [],
   "source": [
    "a[b]=0"
   ]
  },
  {
   "cell_type": "code",
   "execution_count": null,
   "id": "d890f9c2",
   "metadata": {},
   "outputs": [],
   "source": []
  },
  {
   "cell_type": "code",
   "execution_count": 58,
   "id": "07a58534",
   "metadata": {},
   "outputs": [
    {
     "data": {
      "text/plain": [
       "array([11,  2, 13,  4, 15,  6,  0,  8, 19])"
      ]
     },
     "execution_count": 58,
     "metadata": {},
     "output_type": "execute_result"
    }
   ],
   "source": [
    "a"
   ]
  },
  {
   "cell_type": "code",
   "execution_count": 59,
   "id": "4bfa8d89",
   "metadata": {},
   "outputs": [],
   "source": [
    "a = np.arange(1,11)"
   ]
  },
  {
   "cell_type": "code",
   "execution_count": 60,
   "id": "a6489c66",
   "metadata": {},
   "outputs": [
    {
     "data": {
      "text/plain": [
       "array([ 1,  2,  3,  4,  5,  6,  7,  8,  9, 10])"
      ]
     },
     "execution_count": 60,
     "metadata": {},
     "output_type": "execute_result"
    }
   ],
   "source": [
    "a"
   ]
  },
  {
   "cell_type": "code",
   "execution_count": 62,
   "id": "d3067b6f",
   "metadata": {},
   "outputs": [
    {
     "name": "stdout",
     "output_type": "stream",
     "text": [
      "[ 1  2  3  9 10]\n"
     ]
    }
   ],
   "source": [
    "print(a[(a<4) | (a>8)])"
   ]
  },
  {
   "cell_type": "code",
   "execution_count": 63,
   "id": "825a9d42",
   "metadata": {},
   "outputs": [],
   "source": [
    "a = np.random.randint(15,20, size =(1,20))"
   ]
  },
  {
   "cell_type": "code",
   "execution_count": 64,
   "id": "175712d9",
   "metadata": {},
   "outputs": [
    {
     "data": {
      "text/plain": [
       "array([[15, 19, 18, 16, 17, 17, 19, 18, 17, 16, 15, 18, 15, 15, 16, 16,\n",
       "        18, 16, 17, 18]])"
      ]
     },
     "execution_count": 64,
     "metadata": {},
     "output_type": "execute_result"
    }
   ],
   "source": [
    "a"
   ]
  },
  {
   "cell_type": "code",
   "execution_count": 65,
   "id": "cdac333f",
   "metadata": {},
   "outputs": [],
   "source": [
    "b = np.random.randint(150,160, size =(1,20))"
   ]
  },
  {
   "cell_type": "code",
   "execution_count": 66,
   "id": "93959cc5",
   "metadata": {},
   "outputs": [
    {
     "data": {
      "text/plain": [
       "array([[156, 152, 156, 156, 158, 153, 150, 154, 154, 155, 150, 153, 156,\n",
       "        151, 157, 157, 155, 153, 153, 154]])"
      ]
     },
     "execution_count": 66,
     "metadata": {},
     "output_type": "execute_result"
    }
   ],
   "source": [
    "b\n"
   ]
  },
  {
   "cell_type": "code",
   "execution_count": 67,
   "id": "44d06e5e",
   "metadata": {},
   "outputs": [],
   "source": [
    "ind = np.where(b>155)"
   ]
  },
  {
   "cell_type": "code",
   "execution_count": 68,
   "id": "f88a7eb6",
   "metadata": {},
   "outputs": [],
   "source": [
    "age = a[ind]"
   ]
  },
  {
   "cell_type": "code",
   "execution_count": 69,
   "id": "1b2986d7",
   "metadata": {},
   "outputs": [
    {
     "name": "stdout",
     "output_type": "stream",
     "text": [
      "[15 18 16 17 15 16 16]\n",
      "[156 156 156 158 156 157 157]\n"
     ]
    }
   ],
   "source": [
    "print(age)\n",
    "print(b[ind])"
   ]
  },
  {
   "cell_type": "code",
   "execution_count": 2,
   "id": "d6a6c112",
   "metadata": {},
   "outputs": [],
   "source": [
    "a = np.random.randint(1,30,(5,6))"
   ]
  },
  {
   "cell_type": "code",
   "execution_count": 3,
   "id": "6e3909f8",
   "metadata": {},
   "outputs": [
    {
     "data": {
      "text/plain": [
       "array([[10,  3,  6, 10, 23, 21],\n",
       "       [26, 17, 17,  4, 15,  2],\n",
       "       [ 6, 16,  7,  8, 15, 13],\n",
       "       [28, 26, 19,  2, 27, 28],\n",
       "       [ 1, 23, 27,  8, 25, 10]])"
      ]
     },
     "execution_count": 3,
     "metadata": {},
     "output_type": "execute_result"
    }
   ],
   "source": [
    "a"
   ]
  },
  {
   "cell_type": "code",
   "execution_count": 4,
   "id": "40d6533b",
   "metadata": {},
   "outputs": [
    {
     "data": {
      "text/plain": [
       "array([[False, False, False, False,  True,  True],\n",
       "       [ True, False, False, False, False, False],\n",
       "       [False, False, False, False, False, False],\n",
       "       [ True,  True, False, False,  True,  True],\n",
       "       [False,  True,  True, False,  True, False]])"
      ]
     },
     "execution_count": 4,
     "metadata": {},
     "output_type": "execute_result"
    }
   ],
   "source": [
    "bool_arr = a>20\n",
    "bool_arr"
   ]
  },
  {
   "cell_type": "code",
   "execution_count": 5,
   "id": "5db83819",
   "metadata": {},
   "outputs": [
    {
     "name": "stdout",
     "output_type": "stream",
     "text": [
      "[23 21 26 28 26 27 28 23 27 25]\n"
     ]
    }
   ],
   "source": [
    "ans = a[bool_arr]\n",
    "print(ans)"
   ]
  },
  {
   "cell_type": "code",
   "execution_count": 6,
   "id": "a299cd93",
   "metadata": {},
   "outputs": [
    {
     "name": "stdout",
     "output_type": "stream",
     "text": [
      "[[10  3  6 10 23 21]\n",
      " [26 17 17  4 15  2]\n",
      " [ 6 16  7  8 15 13]\n",
      " [28 26 19  2 27 28]\n",
      " [ 1 23 27  8 25 10]]\n"
     ]
    }
   ],
   "source": [
    "b = a\n",
    "print(a)"
   ]
  },
  {
   "cell_type": "code",
   "execution_count": 7,
   "id": "4fa2101f",
   "metadata": {},
   "outputs": [
    {
     "name": "stdout",
     "output_type": "stream",
     "text": [
      "[[ 10   3   6  10 100 100]\n",
      " [100  17  17   4  15   2]\n",
      " [  6  16   7   8  15  13]\n",
      " [100 100  19   2 100 100]\n",
      " [  1 100 100   8 100  10]]\n"
     ]
    }
   ],
   "source": [
    "b[bool_arr]=100\n",
    "print(b)"
   ]
  },
  {
   "cell_type": "code",
   "execution_count": 8,
   "id": "362baaac",
   "metadata": {},
   "outputs": [],
   "source": [
    "a = np.random.randint(1,10,(2,2))"
   ]
  },
  {
   "cell_type": "code",
   "execution_count": 9,
   "id": "05a4c460",
   "metadata": {},
   "outputs": [
    {
     "data": {
      "text/plain": [
       "array([[1, 6],\n",
       "       [6, 8]])"
      ]
     },
     "execution_count": 9,
     "metadata": {},
     "output_type": "execute_result"
    }
   ],
   "source": [
    "a"
   ]
  },
  {
   "cell_type": "code",
   "execution_count": 10,
   "id": "97ddb053",
   "metadata": {},
   "outputs": [
    {
     "name": "stdout",
     "output_type": "stream",
     "text": [
      "[[ 10   3   6  10 100 100]\n",
      " [100  17  17   4  15   2]\n",
      " [  6  16   7   8  15  13]\n",
      " [100 100  19   2 100 100]\n",
      " [  1 100 100   8 100  10]]\n"
     ]
    }
   ],
   "source": [
    "print(b)"
   ]
  },
  {
   "cell_type": "code",
   "execution_count": 16,
   "id": "8e4bf271",
   "metadata": {},
   "outputs": [
    {
     "name": "stdout",
     "output_type": "stream",
     "text": [
      "[ True False False  True  True]\n"
     ]
    }
   ],
   "source": [
    "bool_arr = b[:,4]==100\n",
    "print(bool_arr)"
   ]
  },
  {
   "cell_type": "code",
   "execution_count": 17,
   "id": "2dea4db9",
   "metadata": {},
   "outputs": [],
   "source": [
    " b[bool_arr, 4]=99"
   ]
  },
  {
   "cell_type": "code",
   "execution_count": 18,
   "id": "caa5a219",
   "metadata": {},
   "outputs": [
    {
     "name": "stdout",
     "output_type": "stream",
     "text": [
      "[[ 10   3   6  10  99 100]\n",
      " [100  17  17   4  15   2]\n",
      " [  6  16   7   8  15  13]\n",
      " [100 100  19   2  99 100]\n",
      " [  1 100 100   8  99  10]]\n"
     ]
    }
   ],
   "source": [
    "print(b)"
   ]
  },
  {
   "cell_type": "code",
   "execution_count": 28,
   "id": "995034af",
   "metadata": {},
   "outputs": [],
   "source": [
    "arr = np.array([[21,20,19,18,17],[16,15,14,13,12],[11,10,9,8,7],[6,5,4,3,2]])"
   ]
  },
  {
   "cell_type": "code",
   "execution_count": 29,
   "id": "04cba6d2",
   "metadata": {},
   "outputs": [
    {
     "name": "stdout",
     "output_type": "stream",
     "text": [
      "[[21 20 19 18 17]\n",
      " [16 15 14 13 12]\n",
      " [11 10  9  8  7]\n",
      " [ 6  5  4  3  2]]\n"
     ]
    }
   ],
   "source": [
    "print(arr)"
   ]
  },
  {
   "cell_type": "code",
   "execution_count": null,
   "id": "69d8e28d",
   "metadata": {},
   "outputs": [],
   "source": []
  },
  {
   "cell_type": "code",
   "execution_count": null,
   "id": "8a1cd65e",
   "metadata": {},
   "outputs": [],
   "source": []
  },
  {
   "cell_type": "code",
   "execution_count": 30,
   "id": "0076167c",
   "metadata": {},
   "outputs": [],
   "source": [
    "ans = arr[arr[:,0].argsort()]"
   ]
  },
  {
   "cell_type": "code",
   "execution_count": 31,
   "id": "3717f291",
   "metadata": {},
   "outputs": [
    {
     "data": {
      "text/plain": [
       "array([[ 6,  5,  4,  3,  2],\n",
       "       [11, 10,  9,  8,  7],\n",
       "       [16, 15, 14, 13, 12],\n",
       "       [21, 20, 19, 18, 17]])"
      ]
     },
     "execution_count": 31,
     "metadata": {},
     "output_type": "execute_result"
    }
   ],
   "source": [
    "ans"
   ]
  },
  {
   "cell_type": "code",
   "execution_count": 32,
   "id": "1e42678c",
   "metadata": {},
   "outputs": [],
   "source": [
    "brr = arr[:,arr[0,:].argsort()]"
   ]
  },
  {
   "cell_type": "code",
   "execution_count": 33,
   "id": "f40c2a67",
   "metadata": {},
   "outputs": [
    {
     "data": {
      "text/plain": [
       "array([[17, 18, 19, 20, 21],\n",
       "       [12, 13, 14, 15, 16],\n",
       "       [ 7,  8,  9, 10, 11],\n",
       "       [ 2,  3,  4,  5,  6]])"
      ]
     },
     "execution_count": 33,
     "metadata": {},
     "output_type": "execute_result"
    }
   ],
   "source": [
    "brr"
   ]
  },
  {
   "cell_type": "code",
   "execution_count": 34,
   "id": "38274149",
   "metadata": {},
   "outputs": [],
   "source": [
    "g = np.random.randint(1,5,(2,5))"
   ]
  },
  {
   "cell_type": "code",
   "execution_count": 35,
   "id": "7b1f0303",
   "metadata": {},
   "outputs": [
    {
     "data": {
      "text/plain": [
       "array([[3, 4, 1, 1, 4],\n",
       "       [2, 2, 4, 3, 4]])"
      ]
     },
     "execution_count": 35,
     "metadata": {},
     "output_type": "execute_result"
    }
   ],
   "source": [
    "g"
   ]
  },
  {
   "cell_type": "code",
   "execution_count": 36,
   "id": "e468c924",
   "metadata": {},
   "outputs": [
    {
     "data": {
      "text/plain": [
       "array([[3, 4, 1]])"
      ]
     },
     "execution_count": 36,
     "metadata": {},
     "output_type": "execute_result"
    }
   ],
   "source": [
    "np.resize(g,(1,3))"
   ]
  },
  {
   "cell_type": "code",
   "execution_count": 44,
   "id": "29dc440f",
   "metadata": {},
   "outputs": [
    {
     "name": "stdout",
     "output_type": "stream",
     "text": [
      "1167.0\n",
      "51372.0\n"
     ]
    }
   ],
   "source": [
    "import csv\n",
    "\n",
    "file_obj = open('D:\\programming language\\Data science and Machine learning\\code\\year2017.csv')\n",
    "data = csv.DictReader(file_obj,skipinitialspace = True)\n",
    "\n",
    "\n",
    "killed = []\n",
    "wounded = []\n",
    "country = []\n",
    "for row in data:\n",
    "    killed.append(row['Killed'])\n",
    "    country.append(row['Country'])\n",
    "    wounded.append(row['Wounded'])   \n",
    "    \n",
    "np_killed = np.array(killed)\n",
    "np_wounded = np.array(wounded)\n",
    "np_country = np.array(country)\n",
    "\n",
    "np_killed[np_killed == '']='0.0'\n",
    "np_wounded[np_wounded=='']='0.0'\n",
    "\n",
    "np_killed = np.array(np_killed,dtype = float)\n",
    "np_wounded = np.array(np_wounded,dtype = float)\n",
    "\n",
    "killed_wounded = np_killed + np_wounded\n",
    "killed_wounded\n",
    "\n",
    "booarr = np_country == 'India'\n",
    "\n",
    "ans = killed_wounded[booarr]\n",
    "print(np.sum(ans))\n",
    "print(np.sum(killed_wounded))\n"
   ]
  },
  {
   "cell_type": "code",
   "execution_count": null,
   "id": "95f28113",
   "metadata": {},
   "outputs": [],
   "source": [
    " "
   ]
  }
 ],
 "metadata": {
  "kernelspec": {
   "display_name": "Python 3 (ipykernel)",
   "language": "python",
   "name": "python3"
  },
  "language_info": {
   "codemirror_mode": {
    "name": "ipython",
    "version": 3
   },
   "file_extension": ".py",
   "mimetype": "text/x-python",
   "name": "python",
   "nbconvert_exporter": "python",
   "pygments_lexer": "ipython3",
   "version": "3.11.0"
  }
 },
 "nbformat": 4,
 "nbformat_minor": 5
}
