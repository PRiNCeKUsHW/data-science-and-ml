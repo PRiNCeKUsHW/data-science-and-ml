{
 "cells": [
  {
   "cell_type": "code",
   "execution_count": 4,
   "id": "d4fbe570",
   "metadata": {},
   "outputs": [],
   "source": [
    "import pandas as pd"
   ]
  },
  {
   "cell_type": "code",
   "execution_count": 6,
   "id": "8f7addfd",
   "metadata": {
    "scrolled": false
   },
   "outputs": [],
   "source": [
    "df = pd.read_csv(r\"D:\\programming language\\Data science and Machine learning\\code\\pandas\\terrorismData.csv\")"
   ]
  },
  {
   "cell_type": "code",
   "execution_count": 7,
   "id": "d29575b8",
   "metadata": {},
   "outputs": [],
   "source": [
    "df = df[df['State']=='Jammu and Kashmir']"
   ]
  },
  {
   "cell_type": "code",
   "execution_count": 8,
   "id": "3b9b3549",
   "metadata": {},
   "outputs": [
    {
     "data": {
      "text/html": [
       "<div>\n",
       "<style scoped>\n",
       "    .dataframe tbody tr th:only-of-type {\n",
       "        vertical-align: middle;\n",
       "    }\n",
       "\n",
       "    .dataframe tbody tr th {\n",
       "        vertical-align: top;\n",
       "    }\n",
       "\n",
       "    .dataframe thead th {\n",
       "        text-align: right;\n",
       "    }\n",
       "</style>\n",
       "<table border=\"1\" class=\"dataframe\">\n",
       "  <thead>\n",
       "    <tr style=\"text-align: right;\">\n",
       "      <th></th>\n",
       "      <th>Year</th>\n",
       "      <th>Month</th>\n",
       "      <th>Day</th>\n",
       "      <th>Country</th>\n",
       "      <th>State</th>\n",
       "      <th>Region</th>\n",
       "      <th>City</th>\n",
       "      <th>Latitude</th>\n",
       "      <th>Longitude</th>\n",
       "      <th>AttackType</th>\n",
       "      <th>Killed</th>\n",
       "      <th>Wounded</th>\n",
       "      <th>Target</th>\n",
       "      <th>Summary</th>\n",
       "      <th>Group</th>\n",
       "      <th>Target_type</th>\n",
       "      <th>Weapon_type</th>\n",
       "    </tr>\n",
       "  </thead>\n",
       "  <tbody>\n",
       "    <tr>\n",
       "      <th>21744</th>\n",
       "      <td>1984</td>\n",
       "      <td>4</td>\n",
       "      <td>17</td>\n",
       "      <td>India</td>\n",
       "      <td>Jammu and Kashmir</td>\n",
       "      <td>South Asia</td>\n",
       "      <td>Bhela</td>\n",
       "      <td>33.315527</td>\n",
       "      <td>74.622476</td>\n",
       "      <td>Assassination</td>\n",
       "      <td>2.0</td>\n",
       "      <td>0.0</td>\n",
       "      <td>Gurbachan Singh Sandhar (Sikh lawyer) and wife</td>\n",
       "      <td>NaN</td>\n",
       "      <td>Sikh Extremists</td>\n",
       "      <td>Private Citizens &amp; Property</td>\n",
       "      <td>Unknown</td>\n",
       "    </tr>\n",
       "    <tr>\n",
       "      <th>22108</th>\n",
       "      <td>1984</td>\n",
       "      <td>5</td>\n",
       "      <td>20</td>\n",
       "      <td>India</td>\n",
       "      <td>Jammu and Kashmir</td>\n",
       "      <td>South Asia</td>\n",
       "      <td>Jammu</td>\n",
       "      <td>32.726602</td>\n",
       "      <td>74.857026</td>\n",
       "      <td>Bombing/Explosion</td>\n",
       "      <td>1.0</td>\n",
       "      <td>0.0</td>\n",
       "      <td>bridge over a stream</td>\n",
       "      <td>NaN</td>\n",
       "      <td>Unknown</td>\n",
       "      <td>Transportation</td>\n",
       "      <td>Explosives</td>\n",
       "    </tr>\n",
       "    <tr>\n",
       "      <th>29677</th>\n",
       "      <td>1986</td>\n",
       "      <td>12</td>\n",
       "      <td>11</td>\n",
       "      <td>India</td>\n",
       "      <td>Jammu and Kashmir</td>\n",
       "      <td>South Asia</td>\n",
       "      <td>Madora</td>\n",
       "      <td>33.934929</td>\n",
       "      <td>75.154160</td>\n",
       "      <td>Bombing/Explosion</td>\n",
       "      <td>1.0</td>\n",
       "      <td>5.0</td>\n",
       "      <td>general post office complex</td>\n",
       "      <td>NaN</td>\n",
       "      <td>Unknown</td>\n",
       "      <td>Government (General)</td>\n",
       "      <td>Unknown</td>\n",
       "    </tr>\n",
       "    <tr>\n",
       "      <th>33202</th>\n",
       "      <td>1988</td>\n",
       "      <td>1</td>\n",
       "      <td>21</td>\n",
       "      <td>India</td>\n",
       "      <td>Jammu and Kashmir</td>\n",
       "      <td>South Asia</td>\n",
       "      <td>Mand</td>\n",
       "      <td>32.888165</td>\n",
       "      <td>74.985168</td>\n",
       "      <td>Armed Assault</td>\n",
       "      <td>2.0</td>\n",
       "      <td>0.0</td>\n",
       "      <td>police unit</td>\n",
       "      <td>NaN</td>\n",
       "      <td>Unknown</td>\n",
       "      <td>Police</td>\n",
       "      <td>Firearms</td>\n",
       "    </tr>\n",
       "    <tr>\n",
       "      <th>33372</th>\n",
       "      <td>1988</td>\n",
       "      <td>2</td>\n",
       "      <td>7</td>\n",
       "      <td>India</td>\n",
       "      <td>Jammu and Kashmir</td>\n",
       "      <td>South Asia</td>\n",
       "      <td>Kherawali</td>\n",
       "      <td>32.523889</td>\n",
       "      <td>74.974444</td>\n",
       "      <td>Armed Assault</td>\n",
       "      <td>4.0</td>\n",
       "      <td>5.0</td>\n",
       "      <td>marriage reception</td>\n",
       "      <td>NaN</td>\n",
       "      <td>Sikh Extremists</td>\n",
       "      <td>Private Citizens &amp; Property</td>\n",
       "      <td>Firearms</td>\n",
       "    </tr>\n",
       "    <tr>\n",
       "      <th>...</th>\n",
       "      <td>...</td>\n",
       "      <td>...</td>\n",
       "      <td>...</td>\n",
       "      <td>...</td>\n",
       "      <td>...</td>\n",
       "      <td>...</td>\n",
       "      <td>...</td>\n",
       "      <td>...</td>\n",
       "      <td>...</td>\n",
       "      <td>...</td>\n",
       "      <td>...</td>\n",
       "      <td>...</td>\n",
       "      <td>...</td>\n",
       "      <td>...</td>\n",
       "      <td>...</td>\n",
       "      <td>...</td>\n",
       "      <td>...</td>\n",
       "    </tr>\n",
       "    <tr>\n",
       "      <th>181222</th>\n",
       "      <td>2017</td>\n",
       "      <td>12</td>\n",
       "      <td>11</td>\n",
       "      <td>India</td>\n",
       "      <td>Jammu and Kashmir</td>\n",
       "      <td>South Asia</td>\n",
       "      <td>Kralcheck Keller</td>\n",
       "      <td>33.732981</td>\n",
       "      <td>74.855559</td>\n",
       "      <td>Armed Assault</td>\n",
       "      <td>2.0</td>\n",
       "      <td>1.0</td>\n",
       "      <td>Van</td>\n",
       "      <td>12/11/2017: Assailants opened fire on a Jammu ...</td>\n",
       "      <td>Jaish-e-Mohammad (JeM)</td>\n",
       "      <td>Business</td>\n",
       "      <td>Firearms</td>\n",
       "    </tr>\n",
       "    <tr>\n",
       "      <th>181396</th>\n",
       "      <td>2017</td>\n",
       "      <td>12</td>\n",
       "      <td>18</td>\n",
       "      <td>India</td>\n",
       "      <td>Jammu and Kashmir</td>\n",
       "      <td>South Asia</td>\n",
       "      <td>Baramulla district</td>\n",
       "      <td>34.191218</td>\n",
       "      <td>74.350010</td>\n",
       "      <td>Bombing/Explosion</td>\n",
       "      <td>0.0</td>\n",
       "      <td>0.0</td>\n",
       "      <td>Police Station</td>\n",
       "      <td>12/18/2017: Assailants threw a grenade at a po...</td>\n",
       "      <td>Unknown</td>\n",
       "      <td>Police</td>\n",
       "      <td>Explosives</td>\n",
       "    </tr>\n",
       "    <tr>\n",
       "      <th>181414</th>\n",
       "      <td>2017</td>\n",
       "      <td>12</td>\n",
       "      <td>19</td>\n",
       "      <td>India</td>\n",
       "      <td>Jammu and Kashmir</td>\n",
       "      <td>South Asia</td>\n",
       "      <td>Pulwama district</td>\n",
       "      <td>33.873538</td>\n",
       "      <td>74.899019</td>\n",
       "      <td>Bombing/Explosion</td>\n",
       "      <td>0.0</td>\n",
       "      <td>0.0</td>\n",
       "      <td>Police Line</td>\n",
       "      <td>12/19/2017: Assailants fired a rifle grenade a...</td>\n",
       "      <td>Unknown</td>\n",
       "      <td>Police</td>\n",
       "      <td>Explosives</td>\n",
       "    </tr>\n",
       "    <tr>\n",
       "      <th>181476</th>\n",
       "      <td>2017</td>\n",
       "      <td>12</td>\n",
       "      <td>22</td>\n",
       "      <td>India</td>\n",
       "      <td>Jammu and Kashmir</td>\n",
       "      <td>South Asia</td>\n",
       "      <td>Srinagar</td>\n",
       "      <td>34.083740</td>\n",
       "      <td>74.789902</td>\n",
       "      <td>Armed Assault</td>\n",
       "      <td>0.0</td>\n",
       "      <td>0.0</td>\n",
       "      <td>Post</td>\n",
       "      <td>12/22/2017: Assailants threw two petrol bombs ...</td>\n",
       "      <td>Unknown</td>\n",
       "      <td>Police</td>\n",
       "      <td>Incendiary</td>\n",
       "    </tr>\n",
       "    <tr>\n",
       "      <th>181672</th>\n",
       "      <td>2017</td>\n",
       "      <td>12</td>\n",
       "      <td>31</td>\n",
       "      <td>India</td>\n",
       "      <td>Jammu and Kashmir</td>\n",
       "      <td>South Asia</td>\n",
       "      <td>Lethapora</td>\n",
       "      <td>33.966527</td>\n",
       "      <td>74.964225</td>\n",
       "      <td>Armed Assault</td>\n",
       "      <td>8.0</td>\n",
       "      <td>3.0</td>\n",
       "      <td>Camp</td>\n",
       "      <td>12/31/2017: Assailants armed with grenades and...</td>\n",
       "      <td>Jaish-e-Mohammad (JeM)</td>\n",
       "      <td>Police</td>\n",
       "      <td>Explosives</td>\n",
       "    </tr>\n",
       "  </tbody>\n",
       "</table>\n",
       "<p>2454 rows × 17 columns</p>\n",
       "</div>"
      ],
      "text/plain": [
       "        Year  Month  Day Country              State      Region  \\\n",
       "21744   1984      4   17   India  Jammu and Kashmir  South Asia   \n",
       "22108   1984      5   20   India  Jammu and Kashmir  South Asia   \n",
       "29677   1986     12   11   India  Jammu and Kashmir  South Asia   \n",
       "33202   1988      1   21   India  Jammu and Kashmir  South Asia   \n",
       "33372   1988      2    7   India  Jammu and Kashmir  South Asia   \n",
       "...      ...    ...  ...     ...                ...         ...   \n",
       "181222  2017     12   11   India  Jammu and Kashmir  South Asia   \n",
       "181396  2017     12   18   India  Jammu and Kashmir  South Asia   \n",
       "181414  2017     12   19   India  Jammu and Kashmir  South Asia   \n",
       "181476  2017     12   22   India  Jammu and Kashmir  South Asia   \n",
       "181672  2017     12   31   India  Jammu and Kashmir  South Asia   \n",
       "\n",
       "                      City   Latitude  Longitude         AttackType  Killed  \\\n",
       "21744                Bhela  33.315527  74.622476      Assassination     2.0   \n",
       "22108                Jammu  32.726602  74.857026  Bombing/Explosion     1.0   \n",
       "29677               Madora  33.934929  75.154160  Bombing/Explosion     1.0   \n",
       "33202                 Mand  32.888165  74.985168      Armed Assault     2.0   \n",
       "33372            Kherawali  32.523889  74.974444      Armed Assault     4.0   \n",
       "...                    ...        ...        ...                ...     ...   \n",
       "181222    Kralcheck Keller  33.732981  74.855559      Armed Assault     2.0   \n",
       "181396  Baramulla district  34.191218  74.350010  Bombing/Explosion     0.0   \n",
       "181414    Pulwama district  33.873538  74.899019  Bombing/Explosion     0.0   \n",
       "181476            Srinagar  34.083740  74.789902      Armed Assault     0.0   \n",
       "181672           Lethapora  33.966527  74.964225      Armed Assault     8.0   \n",
       "\n",
       "        Wounded                                          Target  \\\n",
       "21744       0.0  Gurbachan Singh Sandhar (Sikh lawyer) and wife   \n",
       "22108       0.0                            bridge over a stream   \n",
       "29677       5.0                     general post office complex   \n",
       "33202       0.0                                     police unit   \n",
       "33372       5.0                              marriage reception   \n",
       "...         ...                                             ...   \n",
       "181222      1.0                                             Van   \n",
       "181396      0.0                                  Police Station   \n",
       "181414      0.0                                     Police Line   \n",
       "181476      0.0                                            Post   \n",
       "181672      3.0                                            Camp   \n",
       "\n",
       "                                                  Summary  \\\n",
       "21744                                                 NaN   \n",
       "22108                                                 NaN   \n",
       "29677                                                 NaN   \n",
       "33202                                                 NaN   \n",
       "33372                                                 NaN   \n",
       "...                                                   ...   \n",
       "181222  12/11/2017: Assailants opened fire on a Jammu ...   \n",
       "181396  12/18/2017: Assailants threw a grenade at a po...   \n",
       "181414  12/19/2017: Assailants fired a rifle grenade a...   \n",
       "181476  12/22/2017: Assailants threw two petrol bombs ...   \n",
       "181672  12/31/2017: Assailants armed with grenades and...   \n",
       "\n",
       "                         Group                  Target_type Weapon_type  \n",
       "21744          Sikh Extremists  Private Citizens & Property     Unknown  \n",
       "22108                  Unknown               Transportation  Explosives  \n",
       "29677                  Unknown         Government (General)     Unknown  \n",
       "33202                  Unknown                       Police    Firearms  \n",
       "33372          Sikh Extremists  Private Citizens & Property    Firearms  \n",
       "...                        ...                          ...         ...  \n",
       "181222  Jaish-e-Mohammad (JeM)                     Business    Firearms  \n",
       "181396                 Unknown                       Police  Explosives  \n",
       "181414                 Unknown                       Police  Explosives  \n",
       "181476                 Unknown                       Police  Incendiary  \n",
       "181672  Jaish-e-Mohammad (JeM)                       Police  Explosives  \n",
       "\n",
       "[2454 rows x 17 columns]"
      ]
     },
     "execution_count": 8,
     "metadata": {},
     "output_type": "execute_result"
    }
   ],
   "source": [
    "df"
   ]
  },
  {
   "cell_type": "code",
   "execution_count": 9,
   "id": "5d78f2f1",
   "metadata": {},
   "outputs": [],
   "source": [
    "df_list = df['City'].value_counts()\n"
   ]
  },
  {
   "cell_type": "code",
   "execution_count": 10,
   "id": "e0821673",
   "metadata": {},
   "outputs": [
    {
     "data": {
      "text/plain": [
       "Srinagar     657\n",
       "Sopore       102\n",
       "Unknown       86\n",
       "Anantnag      76\n",
       "Jammu         57\n",
       "            ... \n",
       "Bragam         1\n",
       "Narsu          1\n",
       "Lasjan         1\n",
       "Goriwan        1\n",
       "Lethapora      1\n",
       "Name: City, Length: 633, dtype: int64"
      ]
     },
     "execution_count": 10,
     "metadata": {},
     "output_type": "execute_result"
    }
   ],
   "source": [
    "df_list"
   ]
  },
  {
   "cell_type": "code",
   "execution_count": 11,
   "id": "d55444cf",
   "metadata": {},
   "outputs": [],
   "source": [
    "city = df_list.index[0]\n",
    "count = df_list.values[0]"
   ]
  },
  {
   "cell_type": "code",
   "execution_count": 12,
   "id": "72295afb",
   "metadata": {},
   "outputs": [],
   "source": [
    "df = df[df['City']==city]\n"
   ]
  },
  {
   "cell_type": "code",
   "execution_count": 13,
   "id": "5c498bc0",
   "metadata": {},
   "outputs": [
    {
     "data": {
      "text/html": [
       "<div>\n",
       "<style scoped>\n",
       "    .dataframe tbody tr th:only-of-type {\n",
       "        vertical-align: middle;\n",
       "    }\n",
       "\n",
       "    .dataframe tbody tr th {\n",
       "        vertical-align: top;\n",
       "    }\n",
       "\n",
       "    .dataframe thead th {\n",
       "        text-align: right;\n",
       "    }\n",
       "</style>\n",
       "<table border=\"1\" class=\"dataframe\">\n",
       "  <thead>\n",
       "    <tr style=\"text-align: right;\">\n",
       "      <th></th>\n",
       "      <th>Year</th>\n",
       "      <th>Month</th>\n",
       "      <th>Day</th>\n",
       "      <th>Country</th>\n",
       "      <th>State</th>\n",
       "      <th>Region</th>\n",
       "      <th>City</th>\n",
       "      <th>Latitude</th>\n",
       "      <th>Longitude</th>\n",
       "      <th>AttackType</th>\n",
       "      <th>Killed</th>\n",
       "      <th>Wounded</th>\n",
       "      <th>Target</th>\n",
       "      <th>Summary</th>\n",
       "      <th>Group</th>\n",
       "      <th>Target_type</th>\n",
       "      <th>Weapon_type</th>\n",
       "    </tr>\n",
       "  </thead>\n",
       "  <tbody>\n",
       "    <tr>\n",
       "      <th>35266</th>\n",
       "      <td>1988</td>\n",
       "      <td>7</td>\n",
       "      <td>31</td>\n",
       "      <td>India</td>\n",
       "      <td>Jammu and Kashmir</td>\n",
       "      <td>South Asia</td>\n",
       "      <td>Srinagar</td>\n",
       "      <td>34.08374</td>\n",
       "      <td>74.789902</td>\n",
       "      <td>Bombing/Explosion</td>\n",
       "      <td>0.0</td>\n",
       "      <td>0.0</td>\n",
       "      <td>Srinagar Club</td>\n",
       "      <td>NaN</td>\n",
       "      <td>Sikh Extremists</td>\n",
       "      <td>Private Citizens &amp; Property</td>\n",
       "      <td>Explosives</td>\n",
       "    </tr>\n",
       "    <tr>\n",
       "      <th>35267</th>\n",
       "      <td>1988</td>\n",
       "      <td>7</td>\n",
       "      <td>31</td>\n",
       "      <td>India</td>\n",
       "      <td>Jammu and Kashmir</td>\n",
       "      <td>South Asia</td>\n",
       "      <td>Srinagar</td>\n",
       "      <td>34.08374</td>\n",
       "      <td>74.789902</td>\n",
       "      <td>Bombing/Explosion</td>\n",
       "      <td>0.0</td>\n",
       "      <td>0.0</td>\n",
       "      <td>Telegraph Office</td>\n",
       "      <td>NaN</td>\n",
       "      <td>Sikh Extremists</td>\n",
       "      <td>Business</td>\n",
       "      <td>Explosives</td>\n",
       "    </tr>\n",
       "    <tr>\n",
       "      <th>36073</th>\n",
       "      <td>1988</td>\n",
       "      <td>10</td>\n",
       "      <td>27</td>\n",
       "      <td>India</td>\n",
       "      <td>Jammu and Kashmir</td>\n",
       "      <td>South Asia</td>\n",
       "      <td>Srinagar</td>\n",
       "      <td>34.08374</td>\n",
       "      <td>74.789902</td>\n",
       "      <td>Bombing/Explosion</td>\n",
       "      <td>0.0</td>\n",
       "      <td>9.0</td>\n",
       "      <td>Street</td>\n",
       "      <td>NaN</td>\n",
       "      <td>Unknown</td>\n",
       "      <td>Private Citizens &amp; Property</td>\n",
       "      <td>Explosives</td>\n",
       "    </tr>\n",
       "    <tr>\n",
       "      <th>36074</th>\n",
       "      <td>1988</td>\n",
       "      <td>10</td>\n",
       "      <td>27</td>\n",
       "      <td>India</td>\n",
       "      <td>Jammu and Kashmir</td>\n",
       "      <td>South Asia</td>\n",
       "      <td>Srinagar</td>\n",
       "      <td>34.08374</td>\n",
       "      <td>74.789902</td>\n",
       "      <td>Bombing/Explosion</td>\n",
       "      <td>0.0</td>\n",
       "      <td>8.0</td>\n",
       "      <td>Police Unit</td>\n",
       "      <td>NaN</td>\n",
       "      <td>Muslim Militants</td>\n",
       "      <td>Police</td>\n",
       "      <td>Explosives</td>\n",
       "    </tr>\n",
       "    <tr>\n",
       "      <th>36078</th>\n",
       "      <td>1988</td>\n",
       "      <td>10</td>\n",
       "      <td>27</td>\n",
       "      <td>India</td>\n",
       "      <td>Jammu and Kashmir</td>\n",
       "      <td>South Asia</td>\n",
       "      <td>Srinagar</td>\n",
       "      <td>34.08374</td>\n",
       "      <td>74.789902</td>\n",
       "      <td>Armed Assault</td>\n",
       "      <td>1.0</td>\n",
       "      <td>0.0</td>\n",
       "      <td>Police Unit</td>\n",
       "      <td>NaN</td>\n",
       "      <td>Muslim Militants</td>\n",
       "      <td>Police</td>\n",
       "      <td>Firearms</td>\n",
       "    </tr>\n",
       "    <tr>\n",
       "      <th>...</th>\n",
       "      <td>...</td>\n",
       "      <td>...</td>\n",
       "      <td>...</td>\n",
       "      <td>...</td>\n",
       "      <td>...</td>\n",
       "      <td>...</td>\n",
       "      <td>...</td>\n",
       "      <td>...</td>\n",
       "      <td>...</td>\n",
       "      <td>...</td>\n",
       "      <td>...</td>\n",
       "      <td>...</td>\n",
       "      <td>...</td>\n",
       "      <td>...</td>\n",
       "      <td>...</td>\n",
       "      <td>...</td>\n",
       "      <td>...</td>\n",
       "    </tr>\n",
       "    <tr>\n",
       "      <th>179570</th>\n",
       "      <td>2017</td>\n",
       "      <td>10</td>\n",
       "      <td>10</td>\n",
       "      <td>India</td>\n",
       "      <td>Jammu and Kashmir</td>\n",
       "      <td>South Asia</td>\n",
       "      <td>Srinagar</td>\n",
       "      <td>34.08374</td>\n",
       "      <td>74.789902</td>\n",
       "      <td>Armed Assault</td>\n",
       "      <td>0.0</td>\n",
       "      <td>1.0</td>\n",
       "      <td>Vehicle</td>\n",
       "      <td>10/10/2017: Assailants opened fire on a Centra...</td>\n",
       "      <td>Unknown</td>\n",
       "      <td>Police</td>\n",
       "      <td>Firearms</td>\n",
       "    </tr>\n",
       "    <tr>\n",
       "      <th>179684</th>\n",
       "      <td>2017</td>\n",
       "      <td>10</td>\n",
       "      <td>14</td>\n",
       "      <td>India</td>\n",
       "      <td>Jammu and Kashmir</td>\n",
       "      <td>South Asia</td>\n",
       "      <td>Srinagar</td>\n",
       "      <td>34.08374</td>\n",
       "      <td>74.789902</td>\n",
       "      <td>Bombing/Explosion</td>\n",
       "      <td>0.0</td>\n",
       "      <td>0.0</td>\n",
       "      <td>Officers</td>\n",
       "      <td>10/14/2017: Assailants threw a grenade at Cent...</td>\n",
       "      <td>Unknown</td>\n",
       "      <td>Police</td>\n",
       "      <td>Explosives</td>\n",
       "    </tr>\n",
       "    <tr>\n",
       "      <th>180599</th>\n",
       "      <td>2017</td>\n",
       "      <td>11</td>\n",
       "      <td>19</td>\n",
       "      <td>India</td>\n",
       "      <td>Jammu and Kashmir</td>\n",
       "      <td>South Asia</td>\n",
       "      <td>Srinagar</td>\n",
       "      <td>34.08374</td>\n",
       "      <td>74.789902</td>\n",
       "      <td>Bombing/Explosion</td>\n",
       "      <td>0.0</td>\n",
       "      <td>0.0</td>\n",
       "      <td>Officers</td>\n",
       "      <td>11/19/2017: Assailants threw a grenade at secu...</td>\n",
       "      <td>Unknown</td>\n",
       "      <td>Police</td>\n",
       "      <td>Explosives</td>\n",
       "    </tr>\n",
       "    <tr>\n",
       "      <th>180822</th>\n",
       "      <td>2017</td>\n",
       "      <td>11</td>\n",
       "      <td>27</td>\n",
       "      <td>India</td>\n",
       "      <td>Jammu and Kashmir</td>\n",
       "      <td>South Asia</td>\n",
       "      <td>Srinagar</td>\n",
       "      <td>34.08374</td>\n",
       "      <td>74.789902</td>\n",
       "      <td>Armed Assault</td>\n",
       "      <td>0.0</td>\n",
       "      <td>1.0</td>\n",
       "      <td>Officers</td>\n",
       "      <td>11/27/2017: Assailants threw a petrol bomb at ...</td>\n",
       "      <td>Unknown</td>\n",
       "      <td>Police</td>\n",
       "      <td>Incendiary</td>\n",
       "    </tr>\n",
       "    <tr>\n",
       "      <th>181476</th>\n",
       "      <td>2017</td>\n",
       "      <td>12</td>\n",
       "      <td>22</td>\n",
       "      <td>India</td>\n",
       "      <td>Jammu and Kashmir</td>\n",
       "      <td>South Asia</td>\n",
       "      <td>Srinagar</td>\n",
       "      <td>34.08374</td>\n",
       "      <td>74.789902</td>\n",
       "      <td>Armed Assault</td>\n",
       "      <td>0.0</td>\n",
       "      <td>0.0</td>\n",
       "      <td>Post</td>\n",
       "      <td>12/22/2017: Assailants threw two petrol bombs ...</td>\n",
       "      <td>Unknown</td>\n",
       "      <td>Police</td>\n",
       "      <td>Incendiary</td>\n",
       "    </tr>\n",
       "  </tbody>\n",
       "</table>\n",
       "<p>657 rows × 17 columns</p>\n",
       "</div>"
      ],
      "text/plain": [
       "        Year  Month  Day Country              State      Region      City  \\\n",
       "35266   1988      7   31   India  Jammu and Kashmir  South Asia  Srinagar   \n",
       "35267   1988      7   31   India  Jammu and Kashmir  South Asia  Srinagar   \n",
       "36073   1988     10   27   India  Jammu and Kashmir  South Asia  Srinagar   \n",
       "36074   1988     10   27   India  Jammu and Kashmir  South Asia  Srinagar   \n",
       "36078   1988     10   27   India  Jammu and Kashmir  South Asia  Srinagar   \n",
       "...      ...    ...  ...     ...                ...         ...       ...   \n",
       "179570  2017     10   10   India  Jammu and Kashmir  South Asia  Srinagar   \n",
       "179684  2017     10   14   India  Jammu and Kashmir  South Asia  Srinagar   \n",
       "180599  2017     11   19   India  Jammu and Kashmir  South Asia  Srinagar   \n",
       "180822  2017     11   27   India  Jammu and Kashmir  South Asia  Srinagar   \n",
       "181476  2017     12   22   India  Jammu and Kashmir  South Asia  Srinagar   \n",
       "\n",
       "        Latitude  Longitude         AttackType  Killed  Wounded  \\\n",
       "35266   34.08374  74.789902  Bombing/Explosion     0.0      0.0   \n",
       "35267   34.08374  74.789902  Bombing/Explosion     0.0      0.0   \n",
       "36073   34.08374  74.789902  Bombing/Explosion     0.0      9.0   \n",
       "36074   34.08374  74.789902  Bombing/Explosion     0.0      8.0   \n",
       "36078   34.08374  74.789902      Armed Assault     1.0      0.0   \n",
       "...          ...        ...                ...     ...      ...   \n",
       "179570  34.08374  74.789902      Armed Assault     0.0      1.0   \n",
       "179684  34.08374  74.789902  Bombing/Explosion     0.0      0.0   \n",
       "180599  34.08374  74.789902  Bombing/Explosion     0.0      0.0   \n",
       "180822  34.08374  74.789902      Armed Assault     0.0      1.0   \n",
       "181476  34.08374  74.789902      Armed Assault     0.0      0.0   \n",
       "\n",
       "                  Target                                            Summary  \\\n",
       "35266      Srinagar Club                                                NaN   \n",
       "35267   Telegraph Office                                                NaN   \n",
       "36073             Street                                                NaN   \n",
       "36074        Police Unit                                                NaN   \n",
       "36078        Police Unit                                                NaN   \n",
       "...                  ...                                                ...   \n",
       "179570           Vehicle  10/10/2017: Assailants opened fire on a Centra...   \n",
       "179684          Officers  10/14/2017: Assailants threw a grenade at Cent...   \n",
       "180599          Officers  11/19/2017: Assailants threw a grenade at secu...   \n",
       "180822          Officers  11/27/2017: Assailants threw a petrol bomb at ...   \n",
       "181476              Post  12/22/2017: Assailants threw two petrol bombs ...   \n",
       "\n",
       "                   Group                  Target_type Weapon_type  \n",
       "35266    Sikh Extremists  Private Citizens & Property  Explosives  \n",
       "35267    Sikh Extremists                     Business  Explosives  \n",
       "36073            Unknown  Private Citizens & Property  Explosives  \n",
       "36074   Muslim Militants                       Police  Explosives  \n",
       "36078   Muslim Militants                       Police    Firearms  \n",
       "...                  ...                          ...         ...  \n",
       "179570           Unknown                       Police    Firearms  \n",
       "179684           Unknown                       Police  Explosives  \n",
       "180599           Unknown                       Police  Explosives  \n",
       "180822           Unknown                       Police  Incendiary  \n",
       "181476           Unknown                       Police  Incendiary  \n",
       "\n",
       "[657 rows x 17 columns]"
      ]
     },
     "execution_count": 13,
     "metadata": {},
     "output_type": "execute_result"
    }
   ],
   "source": [
    "df"
   ]
  },
  {
   "cell_type": "code",
   "execution_count": 19,
   "id": "396f137a",
   "metadata": {},
   "outputs": [],
   "source": [
    "group = df['Group'].value_counts().index[1]"
   ]
  },
  {
   "cell_type": "code",
   "execution_count": 20,
   "id": "dbc2c6ea",
   "metadata": {},
   "outputs": [
    {
     "data": {
      "text/plain": [
       "'Muslim Separatists'"
      ]
     },
     "execution_count": 20,
     "metadata": {},
     "output_type": "execute_result"
    }
   ],
   "source": [
    "group"
   ]
  },
  {
   "cell_type": "code",
   "execution_count": 16,
   "id": "ab73355c",
   "metadata": {},
   "outputs": [
    {
     "name": "stdout",
     "output_type": "stream",
     "text": [
      "Srinagar 657 Muslim Separatists\n"
     ]
    }
   ],
   "source": [
    "print(city,count,group)"
   ]
  },
  {
   "cell_type": "code",
   "execution_count": 21,
   "id": "24ad676e",
   "metadata": {},
   "outputs": [],
   "source": [
    "df = pd.read_csv(r\"D:\\programming language\\Data science and Machine learning\\code\\pandas\\terrorismData.csv\")"
   ]
  },
  {
   "cell_type": "code",
   "execution_count": 24,
   "id": "92712aed",
   "metadata": {},
   "outputs": [],
   "source": [
    "df_list = df['Country'].value_counts()"
   ]
  },
  {
   "cell_type": "code",
   "execution_count": 30,
   "id": "1fff40c0",
   "metadata": {},
   "outputs": [],
   "source": [
    "country = df_list.index[0]\n",
    "attack = df_list.values[0]\n",
    "\n",
    "df = df[df['Country']==country]\n"
   ]
  },
  {
   "cell_type": "code",
   "execution_count": 35,
   "id": "bddc2a92",
   "metadata": {},
   "outputs": [],
   "source": [
    "year = df['Year'].value_counts().index[0]"
   ]
  },
  {
   "cell_type": "code",
   "execution_count": 36,
   "id": "3c48698c",
   "metadata": {},
   "outputs": [
    {
     "data": {
      "text/plain": [
       "2014"
      ]
     },
     "execution_count": 36,
     "metadata": {},
     "output_type": "execute_result"
    }
   ],
   "source": [
    "year"
   ]
  },
  {
   "cell_type": "code",
   "execution_count": 37,
   "id": "ffbc1437",
   "metadata": {},
   "outputs": [
    {
     "name": "stdout",
     "output_type": "stream",
     "text": [
      "Iraq 24636 2014\n"
     ]
    }
   ],
   "source": [
    "print(country,attack,year)"
   ]
  },
  {
   "cell_type": "code",
   "execution_count": 38,
   "id": "2bc69bb8",
   "metadata": {},
   "outputs": [],
   "source": [
    "df = pd.read_csv(r\"D:\\programming language\\Data science and Machine learning\\code\\pandas\\terrorismData.csv\")"
   ]
  },
  {
   "cell_type": "code",
   "execution_count": 39,
   "id": "5607cf6a",
   "metadata": {},
   "outputs": [],
   "source": [
    "df = df[df.Killed==df.Killed.max()]"
   ]
  },
  {
   "cell_type": "code",
   "execution_count": 40,
   "id": "4b67d521",
   "metadata": {},
   "outputs": [
    {
     "data": {
      "text/html": [
       "<div>\n",
       "<style scoped>\n",
       "    .dataframe tbody tr th:only-of-type {\n",
       "        vertical-align: middle;\n",
       "    }\n",
       "\n",
       "    .dataframe tbody tr th {\n",
       "        vertical-align: top;\n",
       "    }\n",
       "\n",
       "    .dataframe thead th {\n",
       "        text-align: right;\n",
       "    }\n",
       "</style>\n",
       "<table border=\"1\" class=\"dataframe\">\n",
       "  <thead>\n",
       "    <tr style=\"text-align: right;\">\n",
       "      <th></th>\n",
       "      <th>Year</th>\n",
       "      <th>Month</th>\n",
       "      <th>Day</th>\n",
       "      <th>Country</th>\n",
       "      <th>State</th>\n",
       "      <th>Region</th>\n",
       "      <th>City</th>\n",
       "      <th>Latitude</th>\n",
       "      <th>Longitude</th>\n",
       "      <th>AttackType</th>\n",
       "      <th>Killed</th>\n",
       "      <th>Wounded</th>\n",
       "      <th>Target</th>\n",
       "      <th>Summary</th>\n",
       "      <th>Group</th>\n",
       "      <th>Target_type</th>\n",
       "      <th>Weapon_type</th>\n",
       "    </tr>\n",
       "  </thead>\n",
       "  <tbody>\n",
       "    <tr>\n",
       "      <th>133518</th>\n",
       "      <td>2014</td>\n",
       "      <td>6</td>\n",
       "      <td>12</td>\n",
       "      <td>Iraq</td>\n",
       "      <td>Saladin</td>\n",
       "      <td>Middle East &amp; North Africa</td>\n",
       "      <td>Tikrit</td>\n",
       "      <td>34.621521</td>\n",
       "      <td>43.668377</td>\n",
       "      <td>Hostage Taking (Kidnapping)</td>\n",
       "      <td>1570.0</td>\n",
       "      <td>NaN</td>\n",
       "      <td>Soldiers</td>\n",
       "      <td>06/12/2014: Assailants abducted approximately ...</td>\n",
       "      <td>Islamic State of Iraq and the Levant (ISIL)</td>\n",
       "      <td>Military</td>\n",
       "      <td>Firearms</td>\n",
       "    </tr>\n",
       "  </tbody>\n",
       "</table>\n",
       "</div>"
      ],
      "text/plain": [
       "        Year  Month  Day Country    State                      Region    City  \\\n",
       "133518  2014      6   12    Iraq  Saladin  Middle East & North Africa  Tikrit   \n",
       "\n",
       "         Latitude  Longitude                   AttackType  Killed  Wounded  \\\n",
       "133518  34.621521  43.668377  Hostage Taking (Kidnapping)  1570.0      NaN   \n",
       "\n",
       "          Target                                            Summary  \\\n",
       "133518  Soldiers  06/12/2014: Assailants abducted approximately ...   \n",
       "\n",
       "                                              Group Target_type Weapon_type  \n",
       "133518  Islamic State of Iraq and the Levant (ISIL)    Military    Firearms  "
      ]
     },
     "execution_count": 40,
     "metadata": {},
     "output_type": "execute_result"
    }
   ],
   "source": [
    "df"
   ]
  },
  {
   "cell_type": "code",
   "execution_count": 41,
   "id": "7d22d072",
   "metadata": {},
   "outputs": [
    {
     "data": {
      "text/plain": [
       "1570.0"
      ]
     },
     "execution_count": 41,
     "metadata": {},
     "output_type": "execute_result"
    }
   ],
   "source": [
    "mx_kill = df.Killed.iloc[0]\n",
    "mx_kill"
   ]
  },
  {
   "cell_type": "code",
   "execution_count": 43,
   "id": "daf9c410",
   "metadata": {},
   "outputs": [
    {
     "data": {
      "text/plain": [
       "'Iraq'"
      ]
     },
     "execution_count": 43,
     "metadata": {},
     "output_type": "execute_result"
    }
   ],
   "source": [
    "country = df.Country.iloc[0]\n",
    "country"
   ]
  },
  {
   "cell_type": "code",
   "execution_count": 44,
   "id": "91905674",
   "metadata": {},
   "outputs": [],
   "source": [
    "group = df.Group.iloc[0]"
   ]
  },
  {
   "cell_type": "code",
   "execution_count": 45,
   "id": "45023d61",
   "metadata": {},
   "outputs": [
    {
     "name": "stdout",
     "output_type": "stream",
     "text": [
      "1570 Iraq Islamic State of Iraq and the Levant (ISIL)\n"
     ]
    }
   ],
   "source": [
    "print(int(mx_kill),country,group)"
   ]
  },
  {
   "cell_type": "code",
   "execution_count": 71,
   "id": "29679f2f",
   "metadata": {},
   "outputs": [],
   "source": [
    "import pandas as pd"
   ]
  },
  {
   "cell_type": "code",
   "execution_count": 72,
   "id": "68231af1",
   "metadata": {},
   "outputs": [],
   "source": [
    "import numpy as np\n"
   ]
  },
  {
   "cell_type": "code",
   "execution_count": 73,
   "id": "b5f78870",
   "metadata": {},
   "outputs": [],
   "source": [
    "df = pd.read_csv(r\"D:\\programming language\\Data science and Machine learning\\code\\pandas\\terrorismData.csv\")"
   ]
  },
  {
   "cell_type": "code",
   "execution_count": 80,
   "id": "da1da2a8",
   "metadata": {},
   "outputs": [],
   "source": [
    "a = df[df.Day>=26]\n",
    "b = a[a.Year==2014]\n",
    "c = b[b.Country=='India']\n",
    "ans1 = c[c.Month==5]"
   ]
  },
  {
   "cell_type": "code",
   "execution_count": 82,
   "id": "9fc6421e",
   "metadata": {},
   "outputs": [
    {
     "data": {
      "text/plain": [
       "Year           15\n",
       "Month          15\n",
       "Day            15\n",
       "Country        15\n",
       "State          15\n",
       "Region         15\n",
       "City           15\n",
       "Latitude       15\n",
       "Longitude      15\n",
       "AttackType     15\n",
       "Killed         15\n",
       "Wounded        15\n",
       "Target         15\n",
       "Summary        15\n",
       "Group          15\n",
       "Target_type    15\n",
       "Weapon_type    15\n",
       "dtype: int64"
      ]
     },
     "execution_count": 82,
     "metadata": {},
     "output_type": "execute_result"
    }
   ],
   "source": [
    "ans1\n",
    "ans1.shape[0]\n",
    "ans1.count()\n"
   ]
  },
  {
   "cell_type": "code",
   "execution_count": 76,
   "id": "150144f1",
   "metadata": {},
   "outputs": [],
   "source": [
    "d = df[df.Year==2014]\n",
    "e = d[d.Country=='India']\n",
    "ans2 = e[e.Month>=5]"
   ]
  },
  {
   "cell_type": "code",
   "execution_count": 77,
   "id": "9a542132",
   "metadata": {},
   "outputs": [
    {
     "data": {
      "text/plain": [
       "Year           522\n",
       "Month          522\n",
       "Day            522\n",
       "Country        522\n",
       "State          522\n",
       "Region         522\n",
       "City           522\n",
       "Latitude       522\n",
       "Longitude      522\n",
       "AttackType     522\n",
       "Killed         500\n",
       "Wounded        491\n",
       "Target         522\n",
       "Summary        522\n",
       "Group          522\n",
       "Target_type    522\n",
       "Weapon_type    522\n",
       "dtype: int64"
      ]
     },
     "execution_count": 77,
     "metadata": {},
     "output_type": "execute_result"
    }
   ],
   "source": [
    "ans2.count()"
   ]
  },
  {
   "cell_type": "code",
   "execution_count": 78,
   "id": "64b8d49e",
   "metadata": {},
   "outputs": [
    {
     "name": "stdout",
     "output_type": "stream",
     "text": [
      "3412 Maoists\n"
     ]
    }
   ],
   "source": [
    "f = df[df.Country=='India']\n",
    "ans3 = f[f.Year>2014]\n",
    "\n",
    "count = ans1.shape[0] + ans2.shape[0] + ans3.shape[0]\n",
    "\n",
    "ans1=ans1[ans1.Group!='Unknown']\n",
    "ans2=ans2[ans2.Group!='Unknown']\n",
    "ans3=ans3[ans3.Group!='Unknown']\n",
    "\n",
    "print(count,ans3.Group.describe().top)"
   ]
  },
  {
   "cell_type": "code",
   "execution_count": 6,
   "id": "ad2b2867",
   "metadata": {},
   "outputs": [],
   "source": [
    "import pandas as pd\n",
    "import numpy as np"
   ]
  },
  {
   "cell_type": "code",
   "execution_count": 7,
   "id": "d6355454",
   "metadata": {},
   "outputs": [],
   "source": [
    "df = pd.read_csv(r\"D:\\programming language\\Data science and Machine learning\\code\\pandas\\terrorismData.csv\")\n",
    "year = len(set(df['Year']))"
   ]
  },
  {
   "cell_type": "code",
   "execution_count": 8,
   "id": "0d379a2b",
   "metadata": {},
   "outputs": [],
   "source": [
    "df = df[df.Country=='India']\n",
    "df['Casualty'] = df['Killed']+df['Wounded']\n",
    "\n",
    "jk = df[df.State=='Jammu and Kashmir']\n",
    "rc = df[(df.State == 'Jharkhand')|(df.State == 'Odisha')|(df.State == 'Andhra Pradesh')|(df.State == 'Chhattishgarh')]\n",
    "\n",
    "jkc = int(np.sum(jk['Casualty']))\n",
    "rcc = int(np.sum(rc['Casualty']))"
   ]
  },
  {
   "cell_type": "code",
   "execution_count": 9,
   "id": "61dd82dd",
   "metadata": {},
   "outputs": [
    {
     "name": "stdout",
     "output_type": "stream",
     "text": [
      "64 261\n"
     ]
    }
   ],
   "source": [
    "print(rcc//year,jkc//year)"
   ]
  },
  {
   "cell_type": "code",
   "execution_count": null,
   "id": "2fe398f3",
   "metadata": {},
   "outputs": [],
   "source": []
  }
 ],
 "metadata": {
  "kernelspec": {
   "display_name": "Python 3 (ipykernel)",
   "language": "python",
   "name": "python3"
  },
  "language_info": {
   "codemirror_mode": {
    "name": "ipython",
    "version": 3
   },
   "file_extension": ".py",
   "mimetype": "text/x-python",
   "name": "python",
   "nbconvert_exporter": "python",
   "pygments_lexer": "ipython3",
   "version": "3.11.0"
  }
 },
 "nbformat": 4,
 "nbformat_minor": 5
}
